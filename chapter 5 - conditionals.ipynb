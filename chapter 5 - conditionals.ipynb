{
 "cells": [
  {
   "cell_type": "code",
   "execution_count": 2,
   "metadata": {},
   "outputs": [
    {
     "data": {
      "text/plain": [
       "True"
      ]
     },
     "execution_count": 2,
     "metadata": {},
     "output_type": "execute_result"
    }
   ],
   "source": [
    "n = 6\n",
    "n % 2 == 0 or n % 3 == 0\n"
   ]
  },
  {
   "cell_type": "code",
   "execution_count": 3,
   "metadata": {},
   "outputs": [
    {
     "data": {
      "text/plain": [
       "32"
      ]
     },
     "execution_count": 3,
     "metadata": {},
     "output_type": "execute_result"
    }
   ],
   "source": [
    "int(\"32\")"
   ]
  },
  {
   "cell_type": "code",
   "execution_count": 4,
   "metadata": {},
   "outputs": [
    {
     "ename": "ValueError",
     "evalue": "invalid literal for int() with base 10: 'hello'",
     "output_type": "error",
     "traceback": [
      "\u001b[1;31m---------------------------------------------------------------------------\u001b[0m",
      "\u001b[1;31mValueError\u001b[0m                                Traceback (most recent call last)",
      "\u001b[1;32m<ipython-input-4-a6f1987f81d0>\u001b[0m in \u001b[0;36m<module>\u001b[1;34m\u001b[0m\n\u001b[1;32m----> 1\u001b[1;33m \u001b[0mint\u001b[0m\u001b[1;33m(\u001b[0m\u001b[1;34m\"hello\"\u001b[0m\u001b[1;33m)\u001b[0m\u001b[1;33m\u001b[0m\u001b[1;33m\u001b[0m\u001b[0m\n\u001b[0m",
      "\u001b[1;31mValueError\u001b[0m: invalid literal for int() with base 10: 'hello'"
     ]
    }
   ],
   "source": [
    "int(\"hello\")"
   ]
  },
  {
   "cell_type": "code",
   "execution_count": 5,
   "metadata": {},
   "outputs": [
    {
     "data": {
      "text/plain": [
       "-2"
      ]
     },
     "execution_count": 5,
     "metadata": {},
     "output_type": "execute_result"
    }
   ],
   "source": [
    "int(-2.3)"
   ]
  },
  {
   "cell_type": "code",
   "execution_count": 6,
   "metadata": {},
   "outputs": [
    {
     "ename": "ValueError",
     "evalue": "could not convert string to float: 'hello'",
     "output_type": "error",
     "traceback": [
      "\u001b[1;31m---------------------------------------------------------------------------\u001b[0m",
      "\u001b[1;31mValueError\u001b[0m                                Traceback (most recent call last)",
      "\u001b[1;32m<ipython-input-6-7124e8e12e61>\u001b[0m in \u001b[0;36m<module>\u001b[1;34m\u001b[0m\n\u001b[1;32m----> 1\u001b[1;33m \u001b[0mfloat\u001b[0m\u001b[1;33m(\u001b[0m\u001b[1;34m\"hello\"\u001b[0m\u001b[1;33m)\u001b[0m\u001b[1;33m\u001b[0m\u001b[1;33m\u001b[0m\u001b[0m\n\u001b[0m",
      "\u001b[1;31mValueError\u001b[0m: could not convert string to float: 'hello'"
     ]
    }
   ],
   "source": [
    "float(\"hello\")"
   ]
  },
  {
   "cell_type": "code",
   "execution_count": 18,
   "metadata": {},
   "outputs": [],
   "source": [
    "import turtle\n",
    "xs = [48, 117, 200, 240, 160, 260, 220]\n",
    "def draw_bar(t, height):\n",
    "    t.begin_fill()\n",
    "    t.left(90)\n",
    "    t.forward(height)\n",
    "    t.write(\"\" + str(height))\n",
    "    t.right(90)\n",
    "    t.forward(40)\n",
    "    t.right(90)\n",
    "    t.forward(height)\n",
    "    t.left(90)\n",
    "    t.end_fill()\n",
    "    t.penup()\n",
    "    t.forward(10)\n",
    "    t.pendown()\n",
    "    \n",
    "wn = turtle.Screen()\n",
    "wn.bgcolor(\"lightgreen\")\n",
    "\n",
    "tess = turtle.Turtle()\n",
    "tess.color(\"blue\",\"red\")\n",
    "tess.pensize(3)\n",
    "tess.speed(0)\n",
    "\n",
    "for v in xs:\n",
    "    draw_bar(tess, v)\n",
    "    \n",
    "wn.mainloop()\n",
    "    "
   ]
  },
  {
   "cell_type": "code",
   "execution_count": 31,
   "metadata": {},
   "outputs": [
    {
     "name": "stdout",
     "output_type": "stream",
     "text": [
      "today is: 3\n",
      "Wednesday\n"
     ]
    }
   ],
   "source": [
    "def week_day(i):\n",
    "    weekday = [\"Sunday\", \"Monday\", \"Tuesday\", \"Wednesday\", \"Thursday\", \"Friday\", \"Saturday\"]\n",
    "    i = int(input(\"today is: \"))\n",
    "    if i >= 0 and i < 7:\n",
    "        print(weekday[i])\n",
    "    else:\n",
    "        print(\"error\")\n",
    "\n",
    "week_day(3)"
   ]
  },
  {
   "cell_type": "code",
   "execution_count": 3,
   "metadata": {},
   "outputs": [
    {
     "name": "stdout",
     "output_type": "stream",
     "text": [
      "输入星期数字（1~7）：5\n",
      "星期五\n"
     ]
    }
   ],
   "source": [
    "def weekday(weekId):\n",
    "    weekStr = \"星期一星期二星期三星期四星期五星期六星期日\"\n",
    "    weekId = eval(input(\"输入星期数字（1~7）：\"))\n",
    "    pos = (weekId - 1) * 3\n",
    "    print(weekStr[pos: pos + 3])\n",
    "weekday(5)"
   ]
  },
  {
   "cell_type": "code",
   "execution_count": 33,
   "metadata": {},
   "outputs": [
    {
     "name": "stdout",
     "output_type": "stream",
     "text": [
      "starting day is: 3\n",
      "Wednesday Sunday\n"
     ]
    }
   ],
   "source": [
    "def holiday(i,len):\n",
    "    weekday = [\"Sunday\", \"Monday\", \"Tuesday\", \"Wednesday\", \"Thursday\", \"Friday\", \"Saturday\"]\n",
    "    i = int(input(\"starting day is: \"))\n",
    "    v = int(len + i) % 7\n",
    "    if i >= 0 and i < 7:\n",
    "        print(weekday[i], weekday[v])\n",
    "    else:\n",
    "        print(\"error\")\n",
    "holiday(3, 137)\n",
    "    "
   ]
  },
  {
   "cell_type": "code",
   "execution_count": 61,
   "metadata": {},
   "outputs": [
    {
     "name": "stdout",
     "output_type": "stream",
     "text": [
      "83 first\n",
      "75 first\n",
      "74.9 upper second\n",
      "70 upper second\n",
      "69.9 second\n",
      "65 second\n",
      "60 second\n",
      "59.9 third\n",
      "55 third\n",
      "50 third\n",
      "49.9 F1 Supp\n",
      "45 F1 Supp\n",
      "44.9 F2\n",
      "40 F2\n",
      "39.9 F3\n",
      "2 F3\n",
      "0 F3\n",
      "[83, 75, 74.9, 70, 69.9, 65, 60, 59.9, 55, 50, 49.9, 45, 44.9, 40, 39.9, 2, 0] None\n"
     ]
    }
   ],
   "source": [
    "xs = [83, 75, 74.9, 70, 69.9, 65, 60, 59.9, 55, 50, 49.9, 45, 44.9, 40, 39.9, 2, 0]\n",
    "def exam_mark(mark):\n",
    "    #grade = [\"first\", \"upper second\",\"second\",\"third\",\"F1 supp\",\"F2\",\"F3\"]\n",
    "    for i in range(17):\n",
    "        mark = xs[i]\n",
    "        if mark >= 75:\n",
    "            grade = str(\"first\")\n",
    "            print(mark,grade)\n",
    "        elif mark >=70 and mark < 75:\n",
    "            grade = str(\"upper second\")\n",
    "            print(mark,grade)\n",
    "        elif mark >=60 and mark < 70:\n",
    "            grade = str(\"second\")\n",
    "            print(mark,grade)\n",
    "        elif mark >=50 and mark < 60:\n",
    "            grade = str(\"third\")\n",
    "            print(mark,grade)\n",
    "        elif mark >=45 and mark < 50:\n",
    "            grade = str(\"F1 Supp\")\n",
    "            print(mark,grade)\n",
    "        elif mark >=40 and mark < 45:\n",
    "            grade = str(\"F2\")\n",
    "            print(mark,grade)\n",
    "        elif mark < 40:\n",
    "            grade = str(\"F3\")\n",
    "            print(mark,grade)\n",
    "        else:\n",
    "            print(\"error\")\n",
    "        \n",
    "print(xs,exam_mark(mark))\n",
    "\n"
   ]
  },
  {
   "cell_type": "code",
   "execution_count": 66,
   "metadata": {},
   "outputs": [],
   "source": [
    "import turtle\n",
    "xs = [48, 117, 200, 240, 160, 260, 220]\n",
    "def draw_bar(t, height):\n",
    "    t.begin_fill()\n",
    "    t.left(90)\n",
    "    t.forward(height)\n",
    "    t.write(\"\" + str(height))\n",
    "    t.right(90)\n",
    "    t.forward(40)\n",
    "    t.right(90)\n",
    "    t.forward(height)\n",
    "    t.left(90)\n",
    "    t.end_fill()\n",
    "    t.penup()\n",
    "    t.forward(10)\n",
    "    t.pendown()\n",
    "    \n",
    "wn = turtle.Screen()\n",
    "wn.bgcolor(\"lightgreen\")\n",
    "\n",
    "tess = turtle.Turtle()\n",
    "\n",
    "tess.pensize(3)\n",
    "tess.speed(0)\n",
    "\n",
    "for v in xs:\n",
    "    if v >=200:\n",
    "        tess.color(\"blue\",\"red\")\n",
    "    elif v >= 100 and v < 200:\n",
    "        tess.color(\"blue\",\"yellow\")\n",
    "    elif v < 100:\n",
    "        tess.color(\"blue\",\"green\")\n",
    "        \n",
    "    draw_bar(tess, v)\n",
    "\n",
    "wn.mainloop()\n"
   ]
  },
  {
   "cell_type": "code",
   "execution_count": 68,
   "metadata": {},
   "outputs": [],
   "source": [
    "import turtle\n",
    "xs = [48, 117, 200, 240, -86, 160, 260, 220,-150, -100, -72]\n",
    "def draw_bar(t, height):\n",
    "    if height > 0:\n",
    "        t.begin_fill()\n",
    "        t.left(90)\n",
    "        t.forward(height)\n",
    "        t.write(\"\" + str(height))\n",
    "        t.right(90)\n",
    "        t.forward(40)\n",
    "        t.right(90)\n",
    "        t.forward(height)\n",
    "        t.left(90)\n",
    "        t.end_fill()\n",
    "        t.penup()\n",
    "        t.forward(10)\n",
    "        t.pendown()\n",
    "    else:\n",
    "        t.begin_fill()\n",
    "        t.left(-90)\n",
    "        t.forward(-height)\n",
    "        t.write(\"\" + str(height))\n",
    "        t.left(90)\n",
    "        t.forward(40)\n",
    "        t.left(90)\n",
    "        t.forward(-height)\n",
    "        t.left(-90)\n",
    "        t.end_fill()\n",
    "        t.penup()\n",
    "        t.forward(10)\n",
    "        t.pendown()\n",
    "    \n",
    "wn = turtle.Screen()\n",
    "wn.bgcolor(\"lightgreen\")\n",
    "\n",
    "tess = turtle.Turtle()\n",
    "\n",
    "tess.pensize(3)\n",
    "tess.speed(0)\n",
    "\n",
    "for v in xs:\n",
    "    if v >=200:\n",
    "        tess.color(\"blue\",\"red\")\n",
    "    elif v >= 100 and v < 200:\n",
    "        tess.color(\"blue\",\"yellow\")\n",
    "    elif v >= 0 and v < 100:\n",
    "        tess.color(\"blue\",\"green\")\n",
    "    elif v < 0:\n",
    "        tess.color(\"blue\",\"hotpink\")\n",
    "        \n",
    "    draw_bar(tess, v)\n",
    "\n",
    "wn.mainloop()"
   ]
  },
  {
   "cell_type": "code",
   "execution_count": 71,
   "metadata": {},
   "outputs": [
    {
     "data": {
      "text/plain": [
       "3.605551275463989"
      ]
     },
     "execution_count": 71,
     "metadata": {},
     "output_type": "execute_result"
    }
   ],
   "source": [
    "def find_hypot(len1,len2):\n",
    "    len3 = (int(len1) ** 2 + int(len2) ** 2) ** 0.5\n",
    "    return len3\n",
    "find_hypot(2,3)"
   ]
  },
  {
   "cell_type": "code",
   "execution_count": 76,
   "metadata": {},
   "outputs": [
    {
     "data": {
      "text/plain": [
       "True"
      ]
     },
     "execution_count": 76,
     "metadata": {},
     "output_type": "execute_result"
    }
   ],
   "source": [
    "def is_rightangled(len1, len2, len3):\n",
    "    a = float(len1) ** 2\n",
    "    b = float(len2) ** 2\n",
    "    c = float(len3) ** 2\n",
    "    if ((a + b - c) > 0 and abs(a + b - c) < 0.000001) or ((a + c - b) > 0 and abs(a + c - b) < 0.00001) or ((b + c - a) > 0 and abs(b + c - a) < 0.00001):\n",
    "        return True\n",
    "    else:\n",
    "        return False\n",
    "    \n",
    "is_rightangled(3.605551275463989,2,3)"
   ]
  },
  {
   "cell_type": "code",
   "execution_count": 78,
   "metadata": {},
   "outputs": [
    {
     "name": "stdout",
     "output_type": "stream",
     "text": [
      "1.4142135623730951 2.0000000000000004\n",
      "True\n"
     ]
    }
   ],
   "source": [
    "import math\n",
    "a = math.sqrt (2.0)\n",
    "print (a, a * a)\n",
    "#print(a * a == 2.0)\n",
    "print((a * a - 2.0) < 0.000001)"
   ]
  },
  {
   "cell_type": "code",
   "execution_count": 2,
   "metadata": {},
   "outputs": [],
   "source": [
    "#科赫曲线\n",
    "#kochdrawv1.py\n",
    "import turtle\n",
    "def koch(size, n):\n",
    "    if n == 0:\n",
    "        turtle.fd(size)\n",
    "    else:\n",
    "        for angle in [0, 60, -120, 60]:\n",
    "            turtle.left(angle)\n",
    "            koch(size/3, n-1)\n",
    "def main():\n",
    "    turtle.setup(800, 400)\n",
    "    turtle.penup()\n",
    "    turtle.goto(-300, -50)\n",
    "    turtle.pendown()\n",
    "    turtle.pensize(2)\n",
    "    turtle.speed(0)\n",
    "    #koch(600, 3)\n",
    "    level = 3\n",
    "    koch(400, level)\n",
    "    turtle.right(120)\n",
    "    koch(400, level)\n",
    "    turtle.right(120)\n",
    "    koch(400, level)\n",
    "    turtle.hideturtle()\n",
    "main()\n",
    "    "
   ]
  },
  {
   "cell_type": "code",
   "execution_count": 3,
   "metadata": {},
   "outputs": [],
   "source": [
    "#数码管显示当前时间\n",
    "import turtle as t\n",
    "import time\n",
    "def drawGap():\n",
    "    t.penup()\n",
    "    t.fd(5)\n",
    "def drawLine(draw):\n",
    "    drawGap()\n",
    "    t.pendown() if draw else t.penup()\n",
    "    t.fd(40)\n",
    "    drawGap()\n",
    "    t.right(90)\n",
    "def drawDigit(d):\n",
    "    drawLine(True) if d in [2, 3, 4, 5, 6, 8 ,9] else drawLine(False)\n",
    "    drawLine(True) if d in [0,1,3,4,5,6,7,8,9] else drawLine(False)\n",
    "    drawLine(True) if d in [0,2,3,5,6,8] else drawLine(False)\n",
    "    drawLine(True) if d in [0,2,6,8] else drawLine(False)\n",
    "    t.left(90)\n",
    "    drawLine(True) if d in [0,4,5,6,8,9] else drawLine(False)\n",
    "    drawLine(True) if d in [0,2,3,5,6,7,8,9] else drawLine(False)\n",
    "    drawLine(True) if d in [0,1,2,3,4,7,8,9] else drawLine(False)\n",
    "    t.left(180)\n",
    "    t.penup()\n",
    "    t.fd(20)\n",
    "def drawDate(date):\n",
    "    t.pencolor(\"red\")\n",
    "    for i in date:\n",
    "        drawDigit(eval(i))\n",
    "def main():\n",
    "    t.setup(800, 350, 200, 200)\n",
    "    t.penup()\n",
    "    t.fd(-300)\n",
    "    t.pensize(5)\n",
    "    drawDate(time.strftime('%Y%m%d', time.gmtime()))\n",
    "    t.done()\n",
    "main()\n",
    "    "
   ]
  },
  {
   "cell_type": "code",
   "execution_count": 4,
   "metadata": {},
   "outputs": [
    {
     "name": "stdout",
     "output_type": "stream",
     "text": [
      "3,5,7\n",
      "105\n"
     ]
    }
   ],
   "source": [
    "#任意数乘积\n",
    "def cmul(a, *b):\n",
    "    m = a \n",
    "    for i in b:\n",
    "        m *= i\n",
    "    return m\n",
    "print(eval(\"cmul({})\".format(input())))"
   ]
  },
  {
   "cell_type": "code",
   "execution_count": 7,
   "metadata": {},
   "outputs": [
    {
     "name": "stdout",
     "output_type": "stream",
     "text": [
      "5\n",
      "[STEP   1] A->C\n",
      "[STEP   2] A->B\n",
      "[STEP   3] C->B\n",
      "[STEP   4] A->C\n",
      "[STEP   5] B->A\n",
      "[STEP   6] B->C\n",
      "[STEP   7] A->C\n",
      "[STEP   8] A->B\n",
      "[STEP   9] C->B\n",
      "[STEP  10] C->A\n",
      "[STEP  11] B->A\n",
      "[STEP  12] C->B\n",
      "[STEP  13] A->C\n",
      "[STEP  14] A->B\n",
      "[STEP  15] C->B\n",
      "[STEP  16] A->C\n",
      "[STEP  17] B->A\n",
      "[STEP  18] B->C\n",
      "[STEP  19] A->C\n",
      "[STEP  20] B->A\n",
      "[STEP  21] C->B\n",
      "[STEP  22] C->A\n",
      "[STEP  23] B->A\n",
      "[STEP  24] B->C\n",
      "[STEP  25] A->C\n",
      "[STEP  26] A->B\n",
      "[STEP  27] C->B\n",
      "[STEP  28] A->C\n",
      "[STEP  29] B->A\n",
      "[STEP  30] B->C\n",
      "[STEP  31] A->C\n"
     ]
    }
   ],
   "source": [
    "#汉诺塔\n",
    "steps = 0\n",
    "def hanoi(src, des, mid, n):\n",
    "    global steps\n",
    "    if n == 1:\n",
    "        steps += 1\n",
    "        print(\"[STEP{:>4}] {}->{}\".format(steps, src, des))\n",
    "    else:\n",
    "        hanoi(src, mid, des, n-1)\n",
    "        steps += 1\n",
    "        print(\"[STEP{:>4}] {}->{}\".format(steps, src, des))\n",
    "        hanoi(mid, des, src, n-1)\n",
    "n = eval(input())\n",
    "hanoi(\"A\",\"C\",\"B\", n)"
   ]
  },
  {
   "cell_type": "code",
   "execution_count": null,
   "metadata": {},
   "outputs": [],
   "source": [
    "#基本统计值\n",
    "def getNum():\n",
    "    s = input()\n",
    "    ls = list(eval(s))\n",
    "    return ls\n",
    "def mean(numbers):\n",
    "    s = 0.0\n",
    "    for num in numbers:\n",
    "        s += num\n",
    "    return s/ len(numbers)\n",
    "def dev(numbers, mean):\n",
    "    sdev = 0.0\n",
    "    for num in numbers:\n",
    "        sdev = sdev + (num - mean) ** 2\n",
    "    return pow(sdev/(len(numbers) - 1), 0.5)\n",
    "def median(numbers):\n",
    "    numbers.sort()\n",
    "    size = len(numbers)\n",
    "    if size % 2 == 0:\n",
    "        med = (numbers[size//2 - 1] + numbers[size//2])/2\n",
    "    else:\n",
    "        med = numbers[size//2]\n",
    "    return med\n",
    "n = getNum()\n",
    "m = mean(n)\n",
    "print(\"平均值:{:.2f},标准差:{:.2f},中位数:{}\".format(m, dev(n,m),median(n)))"
   ]
  },
  {
   "cell_type": "code",
   "execution_count": null,
   "metadata": {},
   "outputs": [],
   "source": [
    "#AutoTraceDraw.py\n",
    "import turtle as t\n",
    "t.title('自动轨迹绘制')\n",
    "t.setup(800, 600,0,0)\n",
    "t.pencolor(\"red\")\n",
    "t.pensize(5)\n",
    "#数据读取\n",
    "datals = []\n",
    "f = open(\"data.txt\")\n",
    "for line in f:\n",
    "    line = line.replace(\"\\n\",\"\")\n",
    "    datals.append(list(map(eval, line.split(\",\")))) #读取+解析数据，保存成列表\n",
    "f.close()\n",
    "#自动绘制\n",
    "for i in range(len(datals)):\n",
    "    t.pencolor(datals[i][3],datals[i][4], datals[i][5])\n",
    "    t.fd(datals[i][0])\n",
    "    if datals[i][1]:\n",
    "        t.right(datals[i][2])\n",
    "    else:\n",
    "        t.left(datals[i][2])\n",
    "        "
   ]
  }
 ],
 "metadata": {
  "kernelspec": {
   "display_name": "Python 3",
   "language": "python",
   "name": "python3"
  },
  "language_info": {
   "codemirror_mode": {
    "name": "ipython",
    "version": 3
   },
   "file_extension": ".py",
   "mimetype": "text/x-python",
   "name": "python",
   "nbconvert_exporter": "python",
   "pygments_lexer": "ipython3",
   "version": "3.7.6"
  }
 },
 "nbformat": 4,
 "nbformat_minor": 4
}
