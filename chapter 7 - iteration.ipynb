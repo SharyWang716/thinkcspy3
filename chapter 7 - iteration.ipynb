{
 "cells": [
  {
   "cell_type": "code",
   "execution_count": 1,
   "metadata": {},
   "outputs": [
    {
     "name": "stdout",
     "output_type": "stream",
     "text": [
      "3\n"
     ]
    }
   ],
   "source": [
    "def num_digits(n):\n",
    "    count = 0\n",
    "    while n != 0:\n",
    "        count += 1\n",
    "        n = n // 10\n",
    "    return count\n",
    "print(num_digits(710))"
   ]
  },
  {
   "cell_type": "code",
   "execution_count": 7,
   "metadata": {},
   "outputs": [
    {
     "name": "stdout",
     "output_type": "stream",
     "text": [
      "Test at line 21 ok.\n",
      "Test at line 22 ok.\n",
      "Test at line 23 FAILED.\n"
     ]
    }
   ],
   "source": [
    "import sys\n",
    "def num_zero_and_five_digits(n):\n",
    "    count = 0\n",
    "    while n > 0:\n",
    "        digit = n % 10\n",
    "        if digit == 0 or digit == 5:\n",
    "            count += 1\n",
    "        n = n // 10\n",
    "    return count\n",
    "    \n",
    "def test(did_pass):\n",
    "    linenum = sys._getframe(1).f_lineno #get the caller's line number\n",
    "    if did_pass:\n",
    "        msg = \"Test at line {0} ok.\".format(linenum)\n",
    "    else:\n",
    "        msg = (\"Test at line {0} FAILED.\".format(linenum))\n",
    "    print(msg)\n",
    "\n",
    "    \n",
    "def test_suite():\n",
    "    test(num_zero_and_five_digits(1055030250) == 7)\n",
    "    test(num_digits(0) == 0)\n",
    "    test(num_digits(0) == 1)\n",
    "test_suite()"
   ]
  },
  {
   "cell_type": "code",
   "execution_count": 1,
   "metadata": {},
   "outputs": [
    {
     "name": "stdout",
     "output_type": "stream",
     "text": [
      "0 \t 1\n",
      "1 \t 2\n",
      "2 \t 4\n",
      "3 \t 8\n",
      "4 \t 16\n",
      "5 \t 32\n",
      "6 \t 64\n",
      "7 \t 128\n",
      "8 \t 256\n",
      "9 \t 512\n",
      "10 \t 1024\n",
      "11 \t 2048\n",
      "12 \t 4096\n"
     ]
    }
   ],
   "source": [
    "for x in range(13):\n",
    "    print(x, \"\\t\", 2 ** x)"
   ]
  },
  {
   "cell_type": "code",
   "execution_count": 9,
   "metadata": {},
   "outputs": [
    {
     "name": "stdout",
     "output_type": "stream",
     "text": [
      "2   4   6   8   10   12   \n"
     ]
    }
   ],
   "source": [
    "for i in range(1, 7):\n",
    "    print(2 * i, end = \"   \")#注意看空格多少的变化\n",
    "print()"
   ]
  },
  {
   "cell_type": "code",
   "execution_count": 25,
   "metadata": {},
   "outputs": [
    {
     "ename": "TypeError",
     "evalue": "print_mult_table() takes 0 positional arguments but 1 was given",
     "output_type": "error",
     "traceback": [
      "\u001b[1;31m---------------------------------------------------------------------------\u001b[0m",
      "\u001b[1;31mTypeError\u001b[0m                                 Traceback (most recent call last)",
      "\u001b[1;32m<ipython-input-25-bd8bfc869693>\u001b[0m in \u001b[0;36m<module>\u001b[1;34m\u001b[0m\n\u001b[0;32m      7\u001b[0m     \u001b[1;32mfor\u001b[0m \u001b[0mi\u001b[0m \u001b[1;32min\u001b[0m \u001b[0mrange\u001b[0m\u001b[1;33m(\u001b[0m\u001b[1;36m1\u001b[0m\u001b[1;33m,\u001b[0m \u001b[1;36m7\u001b[0m\u001b[1;33m)\u001b[0m\u001b[1;33m:\u001b[0m\u001b[1;33m\u001b[0m\u001b[1;33m\u001b[0m\u001b[0m\n\u001b[0;32m      8\u001b[0m         \u001b[0mprint_multiples\u001b[0m\u001b[1;33m(\u001b[0m\u001b[0mi\u001b[0m\u001b[1;33m)\u001b[0m\u001b[1;33m\u001b[0m\u001b[1;33m\u001b[0m\u001b[0m\n\u001b[1;32m----> 9\u001b[1;33m \u001b[0mprint_mult_table\u001b[0m\u001b[1;33m(\u001b[0m\u001b[1;36m7\u001b[0m\u001b[1;33m)\u001b[0m\u001b[1;33m\u001b[0m\u001b[1;33m\u001b[0m\u001b[0m\n\u001b[0m",
      "\u001b[1;31mTypeError\u001b[0m: print_mult_table() takes 0 positional arguments but 1 was given"
     ]
    }
   ],
   "source": [
    "def print_multiples(n):\n",
    "    for i in range(1, 7):\n",
    "        print(n * i, end = \"\")\n",
    "    print()\n",
    "    \n",
    "def print_mult_table():\n",
    "    for i in range(1, 7):\n",
    "        print_multiples(i)\n",
    "        \n",
    "print_mult_table(7)"
   ]
  },
  {
   "cell_type": "code",
   "execution_count": 14,
   "metadata": {},
   "outputs": [
    {
     "name": "stdout",
     "output_type": "stream",
     "text": [
      "Enter the next number. (Leave blank to end)32\n",
      "Enter the next number. (Leave blank to end)54\n",
      "Enter the next number. (Leave blank to end)32\n",
      "Enter the next number. (Leave blank to end)21\n",
      "Enter the next number. (Leave blank to end)11\n",
      "Enter the next number. (Leave blank to end)1\n",
      "Enter the next number. (Leave blank to end)2\n",
      "Enter the next number. (Leave blank to end)45\n",
      "Enter the next number. (Leave blank to end)\n",
      "The total of the numbers you entered is  198\n"
     ]
    }
   ],
   "source": [
    "total = 0\n",
    "while True:\n",
    "    response = input(\"Enter the next number. (Leave blank to end)\")\n",
    "    if response == \"\":\n",
    "        break\n",
    "    total += int(response)\n",
    "print(\"The total of the numbers you entered is \", total)"
   ]
  },
  {
   "cell_type": "code",
   "execution_count": 15,
   "metadata": {},
   "outputs": [
    {
     "ename": "NameError",
     "evalue": "name 'play_the_game_once' is not defined",
     "output_type": "error",
     "traceback": [
      "\u001b[1;31m---------------------------------------------------------------------------\u001b[0m",
      "\u001b[1;31mNameError\u001b[0m                                 Traceback (most recent call last)",
      "\u001b[1;32m<ipython-input-15-b3d1c5ded297>\u001b[0m in \u001b[0;36m<module>\u001b[1;34m\u001b[0m\n\u001b[0;32m      1\u001b[0m \u001b[1;32mwhile\u001b[0m \u001b[1;32mTrue\u001b[0m\u001b[1;33m:\u001b[0m\u001b[1;33m\u001b[0m\u001b[1;33m\u001b[0m\u001b[0m\n\u001b[1;32m----> 2\u001b[1;33m     \u001b[0mplay_the_game_once\u001b[0m\u001b[1;33m(\u001b[0m\u001b[1;33m)\u001b[0m\u001b[1;33m\u001b[0m\u001b[1;33m\u001b[0m\u001b[0m\n\u001b[0m\u001b[0;32m      3\u001b[0m     \u001b[0mresponse\u001b[0m \u001b[1;33m=\u001b[0m \u001b[0minput\u001b[0m\u001b[1;33m(\u001b[0m\u001b[1;34m\"Play again? (yes or no)\"\u001b[0m\u001b[1;33m)\u001b[0m\u001b[1;33m\u001b[0m\u001b[1;33m\u001b[0m\u001b[0m\n\u001b[0;32m      4\u001b[0m     \u001b[1;32mif\u001b[0m \u001b[0mresponse\u001b[0m \u001b[1;33m!=\u001b[0m \u001b[1;34m\"yes\"\u001b[0m\u001b[1;33m:\u001b[0m\u001b[1;33m\u001b[0m\u001b[1;33m\u001b[0m\u001b[0m\n\u001b[0;32m      5\u001b[0m         \u001b[1;32mbreak\u001b[0m\u001b[1;33m\u001b[0m\u001b[1;33m\u001b[0m\u001b[0m\n",
      "\u001b[1;31mNameError\u001b[0m: name 'play_the_game_once' is not defined"
     ]
    }
   ],
   "source": [
    "while True:\n",
    "    play_the_game_once()\n",
    "    response = input(\"Play again? (yes or no)\")\n",
    "    if response != \"yes\":\n",
    "        break\n",
    "print(\"Goodbye!\")"
   ]
  },
  {
   "cell_type": "code",
   "execution_count": 16,
   "metadata": {},
   "outputs": [
    {
     "name": "stdout",
     "output_type": "stream",
     "text": [
      "\n",
      "Guess my number between 1 and 1000: 520\n",
      "521is too low.\n",
      "\n",
      "Guess my number between 1 and 1000: 680\n",
      "521is too low.\n",
      "681is too low.\n",
      "\n",
      "Guess my number between 1 and 1000: 849\n",
      "521is too low.\n",
      "681is too low.\n",
      "850is too high.\n",
      "\n",
      "Guess my number between 1 and 1000: 750\n",
      "521is too low.\n",
      "681is too low.\n",
      "850is too high.\n",
      "751is too low.\n",
      "\n",
      "Guess my number between 1 and 1000: 800\n",
      "521is too low.\n",
      "681is too low.\n",
      "850is too high.\n",
      "751is too low.\n",
      "801is too low.\n",
      "\n",
      "Guess my number between 1 and 1000: 820\n",
      "521is too low.\n",
      "681is too low.\n",
      "850is too high.\n",
      "751is too low.\n",
      "801is too low.\n",
      "821is too low.\n",
      "\n",
      "Guess my number between 1 and 1000: 840\n",
      "521is too low.\n",
      "681is too low.\n",
      "850is too high.\n",
      "751is too low.\n",
      "801is too low.\n",
      "821is too low.\n",
      "841is too high.\n",
      "\n",
      "Guess my number between 1 and 1000: 835\n",
      "521is too low.\n",
      "681is too low.\n",
      "850is too high.\n",
      "751is too low.\n",
      "801is too low.\n",
      "821is too low.\n",
      "841is too high.\n",
      "836is too high.\n",
      "\n",
      "Guess my number between 1 and 1000: 830\n",
      "521is too low.\n",
      "681is too low.\n",
      "850is too high.\n",
      "751is too low.\n",
      "801is too low.\n",
      "821is too low.\n",
      "841is too high.\n",
      "836is too high.\n",
      "831is too high.\n",
      "\n",
      "Guess my number between 1 and 1000: 829\n",
      "521is too low.\n",
      "681is too low.\n",
      "850is too high.\n",
      "751is too low.\n",
      "801is too low.\n",
      "821is too low.\n",
      "841is too high.\n",
      "836is too high.\n",
      "831is too high.\n",
      "830is too high.\n",
      "\n",
      "Guess my number between 1 and 1000: 825\n",
      "521is too low.\n",
      "681is too low.\n",
      "850is too high.\n",
      "751is too low.\n",
      "801is too low.\n",
      "821is too low.\n",
      "841is too high.\n",
      "836is too high.\n",
      "831is too high.\n",
      "830is too high.\n",
      "826is too low.\n",
      "\n",
      "Guess my number between 1 and 1000: 824\n",
      "521is too low.\n",
      "681is too low.\n",
      "850is too high.\n",
      "751is too low.\n",
      "801is too low.\n",
      "821is too low.\n",
      "841is too high.\n",
      "836is too high.\n",
      "831is too high.\n",
      "830is too high.\n",
      "826is too low.\n",
      "825is too low.\n",
      "\n",
      "Guess my number between 1 and 1000: 827\n",
      "521is too low.\n",
      "681is too low.\n",
      "850is too high.\n",
      "751is too low.\n",
      "801is too low.\n",
      "821is too low.\n",
      "841is too high.\n",
      "836is too high.\n",
      "831is too high.\n",
      "830is too high.\n",
      "826is too low.\n",
      "825is too low.\n",
      "828is too high.\n",
      "\n",
      "Guess my number between 1 and 1000: 827\n",
      "521is too low.\n",
      "681is too low.\n",
      "850is too high.\n",
      "751is too low.\n",
      "801is too low.\n",
      "821is too low.\n",
      "841is too high.\n",
      "836is too high.\n",
      "831is too high.\n",
      "830is too high.\n",
      "826is too low.\n",
      "825is too low.\n",
      "828is too high.\n",
      "828is too high.\n",
      "\n",
      "Guess my number between 1 and 1000: 826\n",
      "\n",
      "\n",
      "Great, you got is in 0 guesses!\n",
      "\n",
      "\n"
     ]
    },
    {
     "data": {
      "text/plain": [
       "''"
      ]
     },
     "execution_count": 16,
     "metadata": {},
     "output_type": "execute_result"
    }
   ],
   "source": [
    "import random\n",
    "rng = random.Random()\n",
    "number = rng.randrange(1, 1000)\n",
    "\n",
    "guesses = 0\n",
    "msg = \"\"\n",
    "\n",
    "while True:\n",
    "    guess = int(input(msg + \"\\nGuess my number between 1 and 1000: \"))\n",
    "    guess += 1\n",
    "    if guess > number:\n",
    "        msg += str(guess) + \"is too high.\\n\"\n",
    "    elif guess < number:\n",
    "        msg += str(guess) + \"is too low.\\n\"\n",
    "    else:\n",
    "        break\n",
    "input(\"\\n\\nGreat, you got is in {0} guesses!\\n\\n\".format(guesses))"
   ]
  },
  {
   "cell_type": "code",
   "execution_count": 17,
   "metadata": {},
   "outputs": [
    {
     "name": "stdout",
     "output_type": "stream",
     "text": [
      "12\n",
      "16\n",
      "done\n"
     ]
    }
   ],
   "source": [
    "#break\n",
    "for i in [12, 16, 17, 24, 29]:\n",
    "    if i % 2 == 1:\n",
    "        break\n",
    "    print(i)\n",
    "print(\"done\")"
   ]
  },
  {
   "cell_type": "code",
   "execution_count": 18,
   "metadata": {},
   "outputs": [
    {
     "name": "stdout",
     "output_type": "stream",
     "text": [
      "12\n",
      "16\n",
      "24\n",
      "30\n",
      "done\n"
     ]
    }
   ],
   "source": [
    "#continue\n",
    "for i in [12, 16, 17, 24, 29, 30]:\n",
    "    if i % 2 == 1:\n",
    "        continue\n",
    "    print(i)\n",
    "print(\"done\")"
   ]
  },
  {
   "cell_type": "code",
   "execution_count": 27,
   "metadata": {},
   "outputs": [
    {
     "name": "stdout",
     "output_type": "stream",
     "text": [
      "1   2   \n",
      "2   4   6   \n",
      "3   6   9   12   \n",
      "4   8   12   16   20   \n",
      "5   10   15   20   25   30   \n",
      "6   12   18   24   30   36   42   \n",
      "7   14   21   28   35   42   49   56   \n"
     ]
    }
   ],
   "source": [
    "def print_multiples(n, high):\n",
    "    for i in range(1, high + 1):\n",
    "        print(n * i, end = \"   \")\n",
    "    print()\n",
    "def print_mult_table(high):\n",
    "    for i in range(1, high + 1):\n",
    "        #print_multiples(i, high)\n",
    "        print_multiples(i, i+1)\n",
    "print_mult_table(7)"
   ]
  },
  {
   "cell_type": "code",
   "execution_count": 20,
   "metadata": {},
   "outputs": [
    {
     "name": "stdout",
     "output_type": "stream",
     "text": [
      "[('Brad Pitt', 1963), ('Jack Nicholson', 1937), ('Justin Bieber', 1997)]\n",
      "3\n",
      "Brad Pitt\n",
      "Jack Nicholson\n"
     ]
    }
   ],
   "source": [
    "#paired data\n",
    "year_born = (\"Paris Hilton\", 1981)\n",
    "celebs = [(\"Brad Pitt\", 1963), (\"Jack Nicholson\", 1937), (\"Justin Bieber\", 1997)]\n",
    "print(celebs)\n",
    "print(len(celebs))\n",
    "for (nm, yr) in celebs:\n",
    "    if yr < 1980:\n",
    "        print(nm)"
   ]
  },
  {
   "cell_type": "code",
   "execution_count": 22,
   "metadata": {},
   "outputs": [
    {
     "name": "stdout",
     "output_type": "stream",
     "text": [
      "John takes 2 courses\n",
      "Vusi takes 3 courses\n",
      "Jess takes 4 courses\n",
      "Sarah takes 4 courses\n",
      "Zuki takes 5 courses\n",
      "The number of students taking CompSci is 3\n"
     ]
    }
   ],
   "source": [
    "#nested loops for nested data\n",
    "students = [\n",
    "    (\"John\", [\"CompSci\", \"Physics\"]),\n",
    "    (\"Vusi\", [\"Maths\", \"CompSci\", \"Stats\"]),\n",
    "    (\"Jess\", [\"CompSci\", \"Accounting\", \"Economics\", \"Management\"]),\n",
    "    (\"Sarah\", [\"InfSys\", \"Accounting\", \"Economics\", \"CommLaw\"]),\n",
    "    (\"Zuki\", [\"Sociology\", \"Economics\", \"Law\", \"Stats\", \"Music\"])]\n",
    "#print all students with a count of their courses\n",
    "for (name, subjects) in students:\n",
    "    print(name, \"takes\", len(subjects), \"courses\")\n",
    "    \n",
    "#count how many students are taking compsci\n",
    "counter = 0\n",
    "for (name, subjects) in students:\n",
    "    for s in subjects:\n",
    "        if s == \"CompSci\":\n",
    "            counter += 1\n",
    "print(\"The number of students taking CompSci is\", counter)"
   ]
  },
  {
   "cell_type": "code",
   "execution_count": 23,
   "metadata": {
    "scrolled": true
   },
   "outputs": [
    {
     "name": "stdout",
     "output_type": "stream",
     "text": [
      "5.000000000016778\n",
      "7.0\n",
      "9.000000000004924\n"
     ]
    }
   ],
   "source": [
    "#newton's method for finding square roots\n",
    "def sqrt(n):\n",
    "    approx = n/2.0\n",
    "    while True:\n",
    "        better = (approx + n/approx)/2.0\n",
    "        if abs(approx - better) < 0.001:\n",
    "            return better\n",
    "        approx = better\n",
    "#test cases\n",
    "print(sqrt(25.0))\n",
    "print(sqrt(49.0))\n",
    "print(sqrt(81.0))"
   ]
  },
  {
   "cell_type": "code",
   "execution_count": 29,
   "metadata": {},
   "outputs": [
    {
     "name": "stdout",
     "output_type": "stream",
     "text": [
      "12\n",
      "16\n",
      "56\n",
      "there are 3 odd numbers\n"
     ]
    }
   ],
   "source": [
    "#count odd numbers\n",
    "count = 0\n",
    "for i in [12, 15, 16, 56,77,29]:\n",
    "    if i % 2 == 1:\n",
    "        count += 1\n",
    "        continue\n",
    "    print(i)\n",
    "print(\"there are {0} odd numbers\". format(count))\n",
    "    "
   ]
  },
  {
   "cell_type": "code",
   "execution_count": 30,
   "metadata": {},
   "outputs": [
    {
     "name": "stdout",
     "output_type": "stream",
     "text": [
      "sum of the even number is 121\n"
     ]
    }
   ],
   "source": [
    "#sum up even numbers\n",
    "total = 0\n",
    "for i in [12, 15,16,16,56,77,29]:\n",
    "    if i % 2 != 0:\n",
    "        #print(i)\n",
    "        total += i\n",
    "        continue\n",
    "print(\"sum of the even number is {0}\".format(total))\n",
    "        "
   ]
  },
  {
   "cell_type": "code",
   "execution_count": 31,
   "metadata": {},
   "outputs": [
    {
     "name": "stdout",
     "output_type": "stream",
     "text": [
      "sum of the negative number is -101\n"
     ]
    }
   ],
   "source": [
    "#sum up negative numbers\n",
    "total = 0\n",
    "for i in [12, 15,-16,16,-56,77,-29]:\n",
    "    if i < 0:\n",
    "        #print(i)\n",
    "        total += i\n",
    "        continue\n",
    "print(\"sum of the negative number is {0}\".format(total))"
   ]
  },
  {
   "cell_type": "code",
   "execution_count": 32,
   "metadata": {},
   "outputs": [
    {
     "name": "stdout",
     "output_type": "stream",
     "text": [
      "there are 4 words in length 5\n"
     ]
    }
   ],
   "source": [
    "#count words with length 5\n",
    "count = 0\n",
    "for i in [\"hello\", \"love\", \"goodbye\", \"third\", \"twice\", \"one\", \"within\", \"lucky\"]:\n",
    "    if len(i) == 5:\n",
    "        count += 1\n",
    "        continue\n",
    "print(\"there are {0} words in length 5\".format(count))"
   ]
  },
  {
   "cell_type": "code",
   "execution_count": 39,
   "metadata": {},
   "outputs": [
    {
     "name": "stdout",
     "output_type": "stream",
     "text": [
      "-44\n"
     ]
    }
   ],
   "source": [
    "sum = 0\n",
    "for i in [12, -16,16,-56,77,-29]:\n",
    "    if i % 2 == 0:\n",
    "        sum += i\n",
    "        continue\n",
    "    else:\n",
    "        print(\"{0}\".format(sum))\n",
    "        break"
   ]
  },
  {
   "cell_type": "code",
   "execution_count": 38,
   "metadata": {},
   "outputs": [],
   "source": [
    "#sum elements \n",
    "list = [\"bob\", \"smith\", \"robot\", \"tomato\", \"sam\", \"dad\", \"java\"]\n",
    "list1 = [\"bob\", \"smith\", \"robot\", \"tomato\", \"dad\", \"java\"]\n",
    "\n",
    "def num_until_sam(list):\n",
    "    count = 0\n",
    "    for wd in list:\n",
    "        if wd != \"sam\":\n",
    "            count += 1\n",
    "        else:\n",
    "            print(\"there is {0} word before sam\".format(count))\n",
    "            break\n",
    "\n",
    "num_until_sam(list)\n",
    "num_until_sam(list1)"
   ]
  },
  {
   "cell_type": "code",
   "execution_count": 40,
   "metadata": {},
   "outputs": [
    {
     "name": "stdout",
     "output_type": "stream",
     "text": [
      "7.25\n",
      "5.349137931034482\n",
      "5.011394106532552\n",
      "5.000012953048684\n",
      "5.000000000016778\n",
      "5.0\n",
      "6\n",
      "5.0\n"
     ]
    }
   ],
   "source": [
    "#newton's method for finding better square roots \n",
    "def sqrt(n):\n",
    "    count = 0\n",
    "    approx = n/2.0\n",
    "    while True:\n",
    "        count += 1\n",
    "        better = (approx + n/approx)/2.0\n",
    "        print(better)\n",
    "        if abs(approx - better) < 0.00000001:\n",
    "            print(count)\n",
    "            return better\n",
    "        approx = better\n",
    "#test cases\n",
    "print(sqrt(25.0))"
   ]
  },
  {
   "cell_type": "code",
   "execution_count": 7,
   "metadata": {},
   "outputs": [
    {
     "name": "stdout",
     "output_type": "stream",
     "text": [
      "1 \t 1\n",
      "2 \t 3\n",
      "3 \t 6\n",
      "4 \t 10\n",
      "5 \t 15\n"
     ]
    }
   ],
   "source": [
    "def print_triangular_numbers(n):\n",
    "    total = 0\n",
    "    for i in range(1, n+1):\n",
    "        print(i, \"\\t\", total + i)\n",
    "        total += i\n",
    "            #print(i,\"{0}\".format(total))  \n",
    "print_triangular_numbers(5)"
   ]
  },
  {
   "cell_type": "code",
   "execution_count": 8,
   "metadata": {},
   "outputs": [
    {
     "name": "stdout",
     "output_type": "stream",
     "text": [
      "Test at line 21 ok.\n",
      "Test at line 22 FAILED.\n",
      "Test at line 23 FAILED.\n"
     ]
    }
   ],
   "source": [
    "import sys\n",
    "import math\n",
    "def is_prime(n):\n",
    "    \"\"\"若不能被2~sqrt(n)之间的任一整数整除，一定是素数\"\"\"\n",
    "    k = int(math.sqrt(n))\n",
    "    for i in range(2, k):\n",
    "        if n % i == 0:\n",
    "            return False\n",
    "        else:\n",
    "            return True\n",
    "        \n",
    "def test(did_pass):\n",
    "    linenum = sys._getframe(1).f_lineno #get the caller's line number\n",
    "    if did_pass:\n",
    "        msg = \"Test at line {0} ok.\".format(linenum)\n",
    "    else:\n",
    "        msg = (\"Test at line {0} FAILED.\".format(linenum))\n",
    "    print(msg)\n",
    "\n",
    "    \n",
    "def test_suite():\n",
    "    test(is_prime(11))\n",
    "    test(not is_prime(35))\n",
    "    test(is_prime(19980716))\n",
    "\n",
    "test_suite()\n",
    "\n",
    "#100 students\n",
    "list = []\n",
    "count = 0\n",
    "for (name, birthday) in list:\n",
    "    if is_prime(birthday) is True:\n",
    "        count += 1\n",
    "        print(name)\n",
    "print(count)\n",
    "    "
   ]
  },
  {
   "cell_type": "code",
   "execution_count": 11,
   "metadata": {},
   "outputs": [],
   "source": [
    "import turtle as t\n",
    "list = [(160, 20), (-43, 10), (270, 8), (-43, 12)]\n",
    "wn = t.Screen()\n",
    "def pirate_step(angle, length):\n",
    "    t.left(angle)\n",
    "    t.fd(length)\n",
    "\n",
    "for (angle, length) in list:\n",
    "    pirate_step(angle, length)\n",
    "wn.mainloop()\n"
   ]
  },
  {
   "cell_type": "code",
   "execution_count": 13,
   "metadata": {},
   "outputs": [],
   "source": [
    "import turtle as t\n",
    "wn = t.Screen()\n",
    "wn.bgcolor(\"lightgreen\")\n",
    "\n",
    "t.pensize(3)\n",
    "t.color(\"blue\")\n",
    "\n",
    "list = [(127, 50), (-127, 30), (-127,50), (127, 30), (90, 40), (30, 30), (120, 30), (30, 40)] \n",
    "\n",
    "def pirate_step(angle, length):\n",
    "    t.left(angle)\n",
    "    t.fd(length)\n",
    "\n",
    "for (angle, length) in list:\n",
    "    pirate_step(angle, length)\n",
    "wn.mainloop()\n"
   ]
  },
  {
   "cell_type": "code",
   "execution_count": 23,
   "metadata": {},
   "outputs": [
    {
     "name": "stdout",
     "output_type": "stream",
     "text": [
      "Test at line 25 ok.\n",
      "Test at line 26 ok.\n",
      "Test at line 27 ok.\n"
     ]
    }
   ],
   "source": [
    "import sys\n",
    "\n",
    "def num_digits(n):#计算整数位数\n",
    "    count = 0\n",
    "    n = abs(n)\n",
    "    if n == 0:\n",
    "        return 1\n",
    "    else:\n",
    "        while n != 0:\n",
    "            count += 1\n",
    "            n = n // 10\n",
    "        return count\n",
    "\n",
    "        \n",
    "def test(did_pass):\n",
    "    linenum = sys._getframe(1).f_lineno #get the caller's line number\n",
    "    if did_pass:\n",
    "        msg = \"Test at line {0} ok.\".format(linenum)\n",
    "    else:\n",
    "        msg = (\"Test at line {0} FAILED.\".format(linenum))\n",
    "    print(msg)\n",
    "\n",
    "    \n",
    "def test_suite():\n",
    "    test(num_digits(-24) == 2)\n",
    "    test(num_digits(0) == 1)\n",
    "    test(num_digits(-12345) == 5)\n",
    "test_suite()\n"
   ]
  },
  {
   "cell_type": "code",
   "execution_count": 4,
   "metadata": {},
   "outputs": [
    {
     "name": "stdout",
     "output_type": "stream",
     "text": [
      "Test at line 28 ok.\n",
      "Test at line 29 ok.\n",
      "Test at line 30 ok.\n",
      "Test at line 31 ok.\n",
      "Test at line 32 ok.\n"
     ]
    }
   ],
   "source": [
    "import sys\n",
    "\n",
    "def num_even_digits(n):#计算整数位数\n",
    "    count = 0\n",
    "    n = abs(n)\n",
    "    if n == 0:\n",
    "        return 1\n",
    "    else:\n",
    "        while n != 0:\n",
    "            k = n % 10\n",
    "            if k % 2 == 0:\n",
    "                count += 1\n",
    "            n = n // 10\n",
    "        return count\n",
    "\n",
    "        \n",
    "def test(did_pass):\n",
    "    linenum = sys._getframe(1).f_lineno #get the caller's line number\n",
    "    if did_pass:\n",
    "        msg = \"Test at line {0} ok.\".format(linenum)\n",
    "    else:\n",
    "        msg = (\"Test at line {0} FAILED.\".format(linenum))\n",
    "    print(msg)\n",
    "\n",
    "    \n",
    "def test_suite():\n",
    "    test(num_even_digits(123456) == 3)\n",
    "    test(num_even_digits(2468) == 4)\n",
    "    test(num_even_digits(1357) == 0)\n",
    "    test(num_even_digits(0) == 1)\n",
    "    test(num_even_digits(-12345) == 2)\n",
    "test_suite()\n"
   ]
  },
  {
   "cell_type": "code",
   "execution_count": 6,
   "metadata": {},
   "outputs": [
    {
     "name": "stdout",
     "output_type": "stream",
     "text": [
      "Test at line 17 ok.\n",
      "Test at line 18 ok.\n",
      "Test at line 19 ok.\n"
     ]
    }
   ],
   "source": [
    "import sys\n",
    "def sum_of_squares(xs):\n",
    "    sum = 0\n",
    "    for i in xs:\n",
    "        sum += pow(i, 2)\n",
    "    return sum\n",
    "def test(did_pass):\n",
    "    linenum = sys._getframe(1).f_lineno #get the caller's line number\n",
    "    if did_pass:\n",
    "        msg = \"Test at line {0} ok.\".format(linenum)\n",
    "    else:\n",
    "        msg = (\"Test at line {0} FAILED.\".format(linenum))\n",
    "    print(msg)\n",
    "\n",
    "    \n",
    "def test_suite():\n",
    "    test(sum_of_squares([2,3,4]) == 29)\n",
    "    test(sum_of_squares([]) == 0)\n",
    "    test(sum_of_squares([2,-3,4]) == 29)\n",
    "test_suite()"
   ]
  },
  {
   "cell_type": "code",
   "execution_count": null,
   "metadata": {},
   "outputs": [
    {
     "name": "stdout",
     "output_type": "stream",
     "text": [
      "Human plays first (y/n)?\n",
      "y\n",
      "Human plays first=True, winner=0 \n",
      "Draw\n",
      "Scores: Human: 0 Computer: 0 Draws: 1\n",
      "Do you want to play again? (y/n)\n",
      "n\n",
      "Human plays first=False, winner=-1 \n",
      "Human wins\n",
      "Scores: Human: 1 Computer: 0 Draws: 0\n",
      "Do you want to play again? (y/n)\n",
      "y\n",
      "Human plays first=-1, winner=0 \n",
      "Draw\n",
      "Scores: Human: 1 Computer: 0 Draws: 1\n",
      "Do you want to play again? (y/n)\n",
      "y\n",
      "Human plays first=0, winner=0 \n",
      "Draw\n",
      "Scores: Human: 1 Computer: 0 Draws: 2\n",
      "Do you want to play again? (y/n)\n",
      "\n",
      "Invalid response\n"
     ]
    }
   ],
   "source": [
    "#two-player game\n",
    "\n",
    "#Your friend will complete this function\n",
    "def play_once(human_plays_first):\n",
    "    \"\"\"Must play one round of the game. If the parameter is True, the human gets to play first, \n",
    "    else the computer gets to play first. When the round ends, \n",
    "    the return value of the function is one of -1 (human wins), 0 (game drawn), 1 (computer wins).\"\"\"\n",
    "    # This is all dummy scaffolding code right at the moment...\n",
    "    import random # See Modules chapter ...\n",
    "    rng = random.Random()\n",
    "    # Pick a random result between -1 and 1.\n",
    "    result = rng.randrange(-1,2)\n",
    "    print(\"Human plays first={0}, winner={1} \".format(human_plays_first, result))\n",
    "    return result\n",
    "    \n",
    "def play_one_game(a):\n",
    "    human = 0\n",
    "    comp = 0\n",
    "    draw = 0\n",
    "    answer = \"y\"\n",
    "    global human_first\n",
    "    human_first = not human_first\n",
    "    while answer != \"n\":\n",
    "        if answer == \"y\":\n",
    "            a = play_once(a)\n",
    "            if a == -1:\n",
    "                human += 1\n",
    "                print(\"Human wins\")\n",
    "            elif a == 1:\n",
    "                comp += 1\n",
    "                print(\"Computer wins\")\n",
    "            else:\n",
    "                draw += 1\n",
    "                print(\"Draw\")\n",
    "            print(\"Scores: Human:\", human, \"Computer:\", comp, \"Draws:\", draw)\n",
    "        else:\n",
    "            print(\"Invalid response\")\n",
    "        answer = input(\"Do you want to play again? (y/n)\\n\")\n",
    "        \n",
    "def who_plays_first():\n",
    "    a = None\n",
    "    while a == None:\n",
    "        answer = input(\"Human plays first (y/n)?\\n\")\n",
    "        if answer == \"y\":\n",
    "            a = True\n",
    "            return a \n",
    "        elif answer == \"n\":\n",
    "            a = False\n",
    "            return a \n",
    "        else:\n",
    "            print(\"Invalid response.\\n\")\n",
    "            \n",
    "human_first = True\n",
    "who_plays_first()\n",
    "play_one_game(human_first)\n",
    "play_one_game(human_first)\n",
    "print(\"Goodbye.\")\n",
    "        \n",
    "    "
   ]
  },
  {
   "cell_type": "code",
   "execution_count": null,
   "metadata": {},
   "outputs": [],
   "source": []
  }
 ],
 "metadata": {
  "kernelspec": {
   "display_name": "Python 3",
   "language": "python",
   "name": "python3"
  },
  "language_info": {
   "codemirror_mode": {
    "name": "ipython",
    "version": 3
   },
   "file_extension": ".py",
   "mimetype": "text/x-python",
   "name": "python",
   "nbconvert_exporter": "python",
   "pygments_lexer": "ipython3",
   "version": "3.7.6"
  }
 },
 "nbformat": 4,
 "nbformat_minor": 4
}
