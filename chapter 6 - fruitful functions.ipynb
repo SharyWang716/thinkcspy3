{
 "cells": [
  {
   "cell_type": "code",
   "execution_count": 2,
   "metadata": {},
   "outputs": [
    {
     "data": {
      "text/plain": [
       "4.123105625617661"
      ]
     },
     "execution_count": 2,
     "metadata": {},
     "output_type": "execute_result"
    }
   ],
   "source": [
    "#fruitful functions\n",
    "import math\n",
    "def distance(x1,y1,x2,y2):\n",
    "    return math.sqrt((x2-x1)**2 + (y2-y1)**2)\n",
    "#distance(4,3,5,7)"
   ]
  },
  {
   "cell_type": "code",
   "execution_count": null,
   "metadata": {},
   "outputs": [],
   "source": [
    "#composition - call another function\n",
    "\n",
    "def area2(xc, yc, xp, yp):\n",
    "    radius = distance(xc, yc, xp, yp)\n",
    "    result = area(radius)\n",
    "    return result\n",
    "def area2(xc, yc, xp, yp):\n",
    "    return area(distance(xc,yc,xp,yp))"
   ]
  },
  {
   "cell_type": "code",
   "execution_count": null,
   "metadata": {},
   "outputs": [],
   "source": [
    "#boolean functions\n",
    "def is_divisible(x,y):\n",
    "    if x % y == 0:\n",
    "        return True\n",
    "    else:\n",
    "        return False"
   ]
  },
  {
   "cell_type": "code",
   "execution_count": null,
   "metadata": {},
   "outputs": [],
   "source": [
    "def is_divisible(x, y):\n",
    "    return x % y == 0"
   ]
  },
  {
   "cell_type": "code",
   "execution_count": 3,
   "metadata": {},
   "outputs": [
    {
     "name": "stdout",
     "output_type": "stream",
     "text": [
      "Test at line 21 ok.\n",
      "Test at line 22 ok.\n",
      "Test at line 23 FAILED.\n",
      "Test at line 24 ok.\n",
      "Test at line 25 ok.\n"
     ]
    }
   ],
   "source": [
    "#test suite\n",
    "import sys\n",
    "\n",
    "def absolute_value(x):\n",
    "    if x < 0:\n",
    "        return -x\n",
    "    elif x > 0:\n",
    "        return x\n",
    "    \n",
    "def test(did_pass):\n",
    "    \"\"\"print the result of a test\"\"\"\n",
    "    linenum = sys._getframe(1).f_lineno #get the caller's line number\n",
    "    if did_pass:\n",
    "        msg = \"Test at line {0} ok.\".format(linenum)\n",
    "    else:\n",
    "        msg = (\"Test at line {0} FAILED.\".format(linenum))\n",
    "    print(msg)\n",
    "\n",
    "def test_suite():\n",
    "    \"\"\"run the suite of tests for code in this module (this file).\"\"\"\n",
    "    test(absolute_value(17) == 17)\n",
    "    test(absolute_value(-17) == 17)\n",
    "    test(absolute_value(0) == 0)\n",
    "    test(absolute_value(3.14) == 3.14)\n",
    "    test(absolute_value(-3.14) == 3.14)\n",
    "test_suite() # here is the call to run the tests"
   ]
  },
  {
   "cell_type": "code",
   "execution_count": 4,
   "metadata": {},
   "outputs": [
    {
     "name": "stdout",
     "output_type": "stream",
     "text": [
      "Test at line 24 ok.\n",
      "Test at line 25 ok.\n",
      "Test at line 26 ok.\n",
      "Test at line 27 ok.\n"
     ]
    }
   ],
   "source": [
    "import sys\n",
    "def turn_clockwise(x):\n",
    "    if x == \"N\":\n",
    "        return \"E\"\n",
    "    elif x == \"E\":\n",
    "        return \"S\"\n",
    "    elif x == \"S\":\n",
    "        return \"W\"\n",
    "    elif x == \"W\":\n",
    "        return \"N\"\n",
    "    else:\n",
    "        return None\n",
    "    \n",
    "def test(did_pass):\n",
    "    linenum = sys._getframe(1).f_lineno #get the caller's line number\n",
    "    if did_pass:\n",
    "        msg = \"Test at line {0} ok.\".format(linenum)\n",
    "    else:\n",
    "        msg = (\"Test at line {0} FAILED.\".format(linenum))\n",
    "    print(msg)\n",
    "\n",
    "    \n",
    "def test_suite():\n",
    "    test(turn_clockwise(\"N\") == \"E\")\n",
    "    test(turn_clockwise(\"W\") == \"N\")\n",
    "    test(turn_clockwise(42) == None)\n",
    "    test(turn_clockwise(\"rubbish\") == None)\n",
    "test_suite()"
   ]
  },
  {
   "cell_type": "code",
   "execution_count": 12,
   "metadata": {},
   "outputs": [
    {
     "name": "stdout",
     "output_type": "stream",
     "text": [
      "Test at line 53 FAILED.\n",
      "Test at line 54 ok.\n",
      "Test at line 55 ok.\n",
      "Test at line 56 ok.\n",
      "Test at line 57 ok.\n",
      "Test at line 58 FAILED.\n",
      "Test at line 59 ok.\n",
      "Test at line 60 ok.\n"
     ]
    }
   ],
   "source": [
    "import sys\n",
    "\n",
    "def day_name(dn):\n",
    "    if dn == 0:\n",
    "        return \"Sunday\"\n",
    "    elif dn == 1:\n",
    "        return \"Monday\"\n",
    "    elif dn == 2:\n",
    "        return \"Tuesday\"\n",
    "    elif dn == 3:\n",
    "        return \"Wedneday\"\n",
    "    elif dn == 4:\n",
    "        return \"Thursday\"\n",
    "    elif dn == 5:\n",
    "        return \"Friday\"\n",
    "    elif dn == 6:\n",
    "        return \"Saturday\"\n",
    "    else:\n",
    "        return None\n",
    "\n",
    "def day_num(dnu):\n",
    "    if dnu ==  \"Sunday\":\n",
    "        return 0\n",
    "    elif dnu == \"Monday\":\n",
    "        return 1\n",
    "    elif dnu ==  \"Tuesday\":\n",
    "        return 2\n",
    "    elif dnu == \"Wednesday\":\n",
    "        return 3\n",
    "    elif dnu ==  \"Thursday\":\n",
    "        return 4\n",
    "    elif dnu == \"Friday\":\n",
    "        return 5\n",
    "    elif dnu == \"Saturday\":\n",
    "        return 6\n",
    "    else:\n",
    "        return None\n",
    "\n",
    "\n",
    "\n",
    "def test(did_pass):\n",
    "    \"\"\" Print the result of a test. \"\"\"\n",
    "    linenum = sys._getframe(1).f_lineno # Get the caller's line number\n",
    "    if did_pass:\n",
    "        msg = \"Test at line {0} ok.\".format(linenum)\n",
    "    else:\n",
    "        msg = (\"Test at line {0} FAILED.\".format(linenum))\n",
    "    print(msg)\n",
    "\n",
    "\n",
    "def test_suite():\n",
    "    \"\"\" Run the suite of tests for code in this module (this file).\"\"\"\n",
    "    test(day_name(3) == \"Wednesday\")\n",
    "    test(day_name(6) == \"Saturday\")\n",
    "    test(day_name(42) == None)\n",
    "    test(day_num(\"Friday\") == 5)\n",
    "    test(day_num(\"Sunday\") == 0)\n",
    "    test(day_num(day_name(3)) == 3)\n",
    "    test(day_name(day_num(\"Thursday\")) == \"Thursday\")\n",
    "    test(day_num(\"Halloween\") == None)\n",
    "\n",
    "test_suite()"
   ]
  },
  {
   "cell_type": "code",
   "execution_count": 17,
   "metadata": {},
   "outputs": [
    {
     "name": "stdout",
     "output_type": "stream",
     "text": [
      "Test at line 59 ok.\n",
      "Test at line 60 ok.\n",
      "Test at line 61 ok.\n",
      "Test at line 62 ok.\n",
      "Test at line 63 ok.\n",
      "Test at line 64 ok.\n",
      "Test at line 65 ok.\n"
     ]
    }
   ],
   "source": [
    "import sys\n",
    "def day_name(dn):\n",
    "    if dn == 0:\n",
    "        return \"Sunday\"\n",
    "    elif dn == 1:\n",
    "        return \"Monday\"\n",
    "    elif dn == 2:\n",
    "        return \"Tuesday\"\n",
    "    elif dn == 3:\n",
    "        return \"Wedneday\"\n",
    "    elif dn == 4:\n",
    "        return \"Thursday\"\n",
    "    elif dn == 5:\n",
    "        return \"Friday\"\n",
    "    elif dn == 6:\n",
    "        return \"Saturday\"\n",
    "    else:\n",
    "        return None\n",
    "\n",
    "def day_num(dnu):\n",
    "    if dnu ==  \"Sunday\":\n",
    "        return 0\n",
    "    elif dnu == \"Monday\":\n",
    "        return 1\n",
    "    elif dnu ==  \"Tuesday\":\n",
    "        return 2\n",
    "    elif dnu == \"Wednesday\":\n",
    "        return 3\n",
    "    elif dnu ==  \"Thursday\":\n",
    "        return 4\n",
    "    elif dnu == \"Friday\":\n",
    "        return 5\n",
    "    elif dnu == \"Saturday\":\n",
    "        return 6\n",
    "    else:\n",
    "        return None\n",
    "    \n",
    "def day_add(dnow, dpass):\n",
    "    dnu1 = (day_num(dnow) + dpass) % 7\n",
    "    return day_name(dnu1)\n",
    "\n",
    "def test(did_pass):\n",
    "    \"\"\" Print the result of a test. \"\"\"\n",
    "    linenum = sys._getframe(1).f_lineno # Get the caller's line number\n",
    "    if did_pass:\n",
    "        msg = \"Test at line {0} ok.\".format(linenum)\n",
    "    else:\n",
    "        msg = (\"Test at line {0} FAILED.\".format(linenum))\n",
    "    print(msg)\n",
    "\n",
    "\n",
    "def test_suite():\n",
    "    \"\"\" Run the suite of tests for code in this module (this file).\"\"\"\n",
    "    test(day_add(\"Monday\", 4) == \"Friday\")\n",
    "    test(day_add(\"Tuesday\", 0) == \"Tuesday\")\n",
    "    test(day_add(\"Tuesday\", 14) == \"Tuesday\")\n",
    "    test(day_add(\"Sunday\", 100) == \"Tuesday\")\n",
    "    test(day_add(\"Sunday\", -1) == \"Saturday\")\n",
    "    test(day_add(\"Sunday\", -7) == \"Sunday\")\n",
    "    test(day_add(\"Tuesday\", -100) == \"Sunday\")\n",
    "\n",
    "test_suite()  "
   ]
  },
  {
   "cell_type": "code",
   "execution_count": 19,
   "metadata": {},
   "outputs": [
    {
     "name": "stdout",
     "output_type": "stream",
     "text": [
      "Test at line 24 ok.\n",
      "Test at line 25 ok.\n"
     ]
    }
   ],
   "source": [
    "import sys\n",
    "def days_in_month(dnu):\n",
    "    if dnu in [\"January\",\"March\",\"May\",\"July\",\"August\",\"October\",\"December\"]:\n",
    "        return 31\n",
    "    elif dnu in [\"April\",\"June\",\"September\",\"November\"]:\n",
    "        return 30\n",
    "    elif dnu == \"February\":\n",
    "        return 28\n",
    "    else:\n",
    "        return None\n",
    "    \n",
    "def test(did_pass):\n",
    "    \"\"\" Print the result of a test. \"\"\"\n",
    "    linenum = sys._getframe(1).f_lineno # Get the caller's line number\n",
    "    if did_pass:\n",
    "        msg = \"Test at line {0} ok.\".format(linenum)\n",
    "    else:\n",
    "        msg = (\"Test at line {0} FAILED.\".format(linenum))\n",
    "    print(msg)\n",
    "\n",
    "\n",
    "def test_suite():\n",
    "    \"\"\" Run the suite of tests for code in this module (this file).\"\"\"\n",
    "    test(days_in_month(\"February\") == 28)\n",
    "    test(days_in_month(\"December\") == 31)\n",
    "test_suite() "
   ]
  },
  {
   "cell_type": "code",
   "execution_count": 20,
   "metadata": {},
   "outputs": [
    {
     "name": "stdout",
     "output_type": "stream",
     "text": [
      "Test at line 19 ok.\n",
      "Test at line 20 ok.\n",
      "Test at line 21 ok.\n",
      "Test at line 22 ok.\n",
      "Test at line 23 ok.\n"
     ]
    }
   ],
   "source": [
    "import sys\n",
    "\n",
    "def to_secs(h, m, s):\n",
    "    total = h * 3600 + m * 60 + s\n",
    "    return total\n",
    "\n",
    "def test(did_pass):\n",
    "    \"\"\" Print the result of a test. \"\"\"\n",
    "    linenum = sys._getframe(1).f_lineno # Get the caller's line number\n",
    "    if did_pass:\n",
    "        msg = \"Test at line {0} ok.\".format(linenum)\n",
    "    else:\n",
    "        msg = (\"Test at line {0} FAILED.\".format(linenum))\n",
    "    print(msg)\n",
    "\n",
    "\n",
    "def test_suite():\n",
    "    \"\"\" Run the suite of tests for code in this module (this file).\"\"\"\n",
    "    test(to_secs(2, 30, 10) == 9010)\n",
    "    test(to_secs(2, 0, 0) == 7200)\n",
    "    test(to_secs(0, 2, 0) == 120)\n",
    "    test(to_secs(0, 0, 42) == 42)\n",
    "    test(to_secs(0, -10, 10) == -590)\n",
    "\n",
    "test_suite()"
   ]
  },
  {
   "cell_type": "code",
   "execution_count": 21,
   "metadata": {},
   "outputs": [
    {
     "name": "stdout",
     "output_type": "stream",
     "text": [
      "Test at line 19 ok.\n",
      "Test at line 20 ok.\n"
     ]
    }
   ],
   "source": [
    "import sys\n",
    "\n",
    "def to_secs(h, m, s):\n",
    "    total = h * 3600 + m * 60 + s\n",
    "    return int(total)\n",
    "\n",
    "def test(did_pass):\n",
    "    \"\"\" Print the result of a test. \"\"\"\n",
    "    linenum = sys._getframe(1).f_lineno # Get the caller's line number\n",
    "    if did_pass:\n",
    "        msg = \"Test at line {0} ok.\".format(linenum)\n",
    "    else:\n",
    "        msg = (\"Test at line {0} FAILED.\".format(linenum))\n",
    "    print(msg)\n",
    "\n",
    "\n",
    "def test_suite():\n",
    "    \"\"\" Run the suite of tests for code in this module (this file).\"\"\"\n",
    "    test(to_secs(2.5, 0, 10.71) == 9010)\n",
    "    test(to_secs(2.433,0,0) == 8758)\n",
    "test_suite()"
   ]
  },
  {
   "cell_type": "code",
   "execution_count": 24,
   "metadata": {},
   "outputs": [
    {
     "name": "stdout",
     "output_type": "stream",
     "text": [
      "Test at line 21 ok.\n",
      "Test at line 22 ok.\n",
      "Test at line 23 ok.\n"
     ]
    }
   ],
   "source": [
    "import sys\n",
    "\n",
    "def hours_in(total):\n",
    "    return total // 3600\n",
    "def minutes_in(total):\n",
    "    return int((total % 3600)/60)\n",
    "def seconds_in(total):\n",
    "    return (total % 3600) % 60\n",
    "def test(did_pass):\n",
    "    \"\"\" Print the result of a test. \"\"\"\n",
    "    linenum = sys._getframe(1).f_lineno # Get the caller's line number\n",
    "    if did_pass:\n",
    "        msg = \"Test at line {0} ok.\".format(linenum)\n",
    "    else:\n",
    "        msg = (\"Test at line {0} FAILED.\".format(linenum))\n",
    "    print(msg)\n",
    "\n",
    "\n",
    "def test_suite():\n",
    "    \"\"\" Run the suite of tests for code in this module (this file).\"\"\"\n",
    "    test(hours_in(9010) == 2)\n",
    "    test(minutes_in(9010) == 30)\n",
    "    test(seconds_in(9010) == 10)\n",
    "test_suite()"
   ]
  },
  {
   "cell_type": "code",
   "execution_count": 25,
   "metadata": {},
   "outputs": [
    {
     "name": "stdout",
     "output_type": "stream",
     "text": [
      "Test at line 15 FAILED.\n",
      "Test at line 16 ok.\n",
      "Test at line 17 FAILED.\n",
      "Test at line 18 ok.\n",
      "Test at line 19 FAILED.\n",
      "Test at line 20 FAILED.\n",
      "Test at line 21 ok.\n"
     ]
    }
   ],
   "source": [
    "import sys\n",
    "\n",
    "def test(did_pass):\n",
    "    \"\"\" Print the result of a test. \"\"\"\n",
    "    linenum = sys._getframe(1).f_lineno # Get the caller's line number\n",
    "    if did_pass:\n",
    "        msg = \"Test at line {0} ok.\".format(linenum)\n",
    "    else:\n",
    "        msg = (\"Test at line {0} FAILED.\".format(linenum))\n",
    "    print(msg)\n",
    "\n",
    "\n",
    "def test_suite():\n",
    "    \"\"\" Run the suite of tests for code in this module (this file).\"\"\"\n",
    "    test(3 % 4 == 0)\n",
    "    test(3 % 4 == 3)\n",
    "    test(3 / 4 == 0)\n",
    "    test(3 // 4 == 0)\n",
    "    test(3+4 * 2 == 14)\n",
    "    test(4-2+2 == 0)\n",
    "    test(len(\"hello, world!\") == 13)\n",
    "\n",
    "test_suite()"
   ]
  },
  {
   "cell_type": "code",
   "execution_count": 26,
   "metadata": {},
   "outputs": [
    {
     "name": "stdout",
     "output_type": "stream",
     "text": [
      "Test at line 23 ok.\n",
      "Test at line 24 ok.\n",
      "Test at line 25 ok.\n",
      "Test at line 26 ok.\n"
     ]
    }
   ],
   "source": [
    "import sys\n",
    "\n",
    "def compare(a, b):\n",
    "    if a > b:\n",
    "        return 1\n",
    "    elif a == b:\n",
    "        return 0\n",
    "    else:\n",
    "        return -1\n",
    "    \n",
    "def test(did_pass):\n",
    "    \"\"\" Print the result of a test. \"\"\"\n",
    "    linenum = sys._getframe(1).f_lineno # Get the caller's line number\n",
    "    if did_pass:\n",
    "        msg = \"Test at line {0} ok.\".format(linenum)\n",
    "    else:\n",
    "        msg = (\"Test at line {0} FAILED.\".format(linenum))\n",
    "    print(msg)\n",
    "\n",
    "\n",
    "def test_suite():\n",
    "    \n",
    "    \"\"\" Run the suite of tests for code in this module (this file).\"\"\"\n",
    "    test(compare(5, 4) == 1)\n",
    "    test(compare(7, 7) == 0)\n",
    "    test(compare(2, 3) == -1)\n",
    "    test(compare(42, 1) == 1)\n",
    "\n",
    "test_suite()\n",
    "        "
   ]
  },
  {
   "cell_type": "code",
   "execution_count": 27,
   "metadata": {},
   "outputs": [
    {
     "name": "stdout",
     "output_type": "stream",
     "text": [
      "Test at line 19 ok.\n",
      "Test at line 20 ok.\n",
      "Test at line 21 ok.\n",
      "Test at line 22 ok.\n"
     ]
    }
   ],
   "source": [
    "import sys\n",
    "\n",
    "def hypotenuse(a, b):\n",
    "    return pow(pow(a,2)+pow(b,2), 0.5)\n",
    "    \n",
    "def test(did_pass):\n",
    "    \"\"\" Print the result of a test. \"\"\"\n",
    "    linenum = sys._getframe(1).f_lineno # Get the caller's line number\n",
    "    if did_pass:\n",
    "        msg = \"Test at line {0} ok.\".format(linenum)\n",
    "    else:\n",
    "        msg = (\"Test at line {0} FAILED.\".format(linenum))\n",
    "    print(msg)\n",
    "\n",
    "\n",
    "def test_suite():\n",
    "    \n",
    "    \"\"\" Run the suite of tests for code in this module (this file).\"\"\"\n",
    "    test(hypotenuse(3, 4) == 5.0)\n",
    "    test(hypotenuse(12, 5) == 13.0)\n",
    "    test(hypotenuse(24, 7) == 25.0)\n",
    "    test(hypotenuse(9, 12) == 15.0)\n",
    "\n",
    "test_suite()"
   ]
  },
  {
   "cell_type": "code",
   "execution_count": 33,
   "metadata": {},
   "outputs": [
    {
     "name": "stdout",
     "output_type": "stream",
     "text": [
      "Test at line 21 ok.\n",
      "Test at line 22 ok.\n",
      "Test at line 23 ok.\n",
      "Test at line 24 ok.\n",
      "Test at line 25 ok.\n",
      "Test at line 26 ok.\n",
      "Test at line 27 ok.\n"
     ]
    }
   ],
   "source": [
    "import sys\n",
    "\n",
    "def slope(x1, y1, x2, y2):\n",
    "    return (y2 - y1)/(x2 - x1)\n",
    "    \n",
    "def intercept(x1, y1, x2, y2):\n",
    "    return y2 - slope(x1, y1, x2, y2) * x2\n",
    "    \n",
    "def test(did_pass):\n",
    "    \"\"\" Print the result of a test. \"\"\"\n",
    "    linenum = sys._getframe(1).f_lineno # Get the caller's line number\n",
    "    if did_pass:\n",
    "        msg = \"Test at line {0} ok.\".format(linenum)\n",
    "    else:\n",
    "        msg = (\"Test at line {0} FAILED.\".format(linenum))\n",
    "    print(msg)\n",
    "    \n",
    "def test_suite():\n",
    "    \n",
    "    \"\"\" Run the suite of tests for code in this module (this file).\"\"\"\n",
    "    test(slope(5, 3, 4, 2) == 1.0)\n",
    "    test(slope(1, 2, 3, 2) == 0.0)\n",
    "    test(slope(1, 2, 3, 3) == 0.5)\n",
    "    test(slope(2, 4, 1, 2) == 2.0)\n",
    "    test(intercept(1, 6, 3, 12) == 3.0)\n",
    "    test(intercept(6, 1, 1, 6) == 7.0)\n",
    "    test(intercept(4, 6, 12, 8) == 5.0)\n",
    "\n",
    "test_suite()"
   ]
  },
  {
   "cell_type": "code",
   "execution_count": 40,
   "metadata": {},
   "outputs": [
    {
     "name": "stdout",
     "output_type": "stream",
     "text": [
      "Test at line 27 FAILED.\n",
      "Test at line 28 ok.\n",
      "Test at line 29 FAILED.\n",
      "Test at line 30 ok.\n",
      "Test at line 31 ok.\n",
      "Test at line 32 FAILED.\n",
      "Test at line 33 ok.\n",
      "Test at line 34 FAILED.\n"
     ]
    }
   ],
   "source": [
    "import sys\n",
    "\n",
    "def is_even(n):\n",
    "    if n % 2 == 0:\n",
    "        return True\n",
    "    else:\n",
    "        return False\n",
    "    \n",
    "def is_odd(n):\n",
    "    if n % 2 != 0:\n",
    "        return True\n",
    "    else:\n",
    "        return False\n",
    "    \n",
    "def test(did_pass):\n",
    "    \"\"\" Print the result of a test. \"\"\"\n",
    "    linenum = sys._getframe(1).f_lineno # Get the caller's line number\n",
    "    if did_pass:\n",
    "        msg = \"Test at line {0} ok.\".format(linenum)\n",
    "    else:\n",
    "        msg = (\"Test at line {0} FAILED.\".format(linenum))\n",
    "    print(msg)\n",
    "    \n",
    "def test_suite():\n",
    "    \n",
    "    \"\"\" Run the suite of tests for code in this module (this file).\"\"\"\n",
    "    test(is_even(3))\n",
    "    test(is_even(4))\n",
    "    test(is_even(5))\n",
    "    test(is_even(6))\n",
    "    test(is_odd(3))\n",
    "    test(is_odd(4))\n",
    "    test(is_odd(5))\n",
    "    test(is_odd(6))\n",
    "test_suite()"
   ]
  },
  {
   "cell_type": "code",
   "execution_count": 41,
   "metadata": {},
   "outputs": [
    {
     "name": "stdout",
     "output_type": "stream",
     "text": [
      "Test at line 21 ok.\n",
      "Test at line 22 ok.\n",
      "Test at line 23 ok.\n",
      "Test at line 24 ok.\n",
      "Test at line 25 ok.\n",
      "Test at line 26 ok.\n",
      "Test at line 27 ok.\n"
     ]
    }
   ],
   "source": [
    "import sys\n",
    "\n",
    "def is_factor(f, n):\n",
    "    if n % f == 0:\n",
    "        return True\n",
    "    else:\n",
    "        return False\n",
    "    \n",
    "def test(did_pass):\n",
    "    \"\"\" Print the result of a test. \"\"\"\n",
    "    linenum = sys._getframe(1).f_lineno # Get the caller's line number\n",
    "    if did_pass:\n",
    "        msg = \"Test at line {0} ok.\".format(linenum)\n",
    "    else:\n",
    "        msg = (\"Test at line {0} FAILED.\".format(linenum))\n",
    "    print(msg)\n",
    "    \n",
    "def test_suite():\n",
    "    \n",
    "    \"\"\" Run the suite of tests for code in this module (this file).\"\"\"\n",
    "    test(is_factor(3, 12))\n",
    "    test(not is_factor(5, 12))\n",
    "    test(is_factor(7, 14))\n",
    "    test(not is_factor(7, 15))\n",
    "    test(is_factor(1, 15))\n",
    "    test(is_factor(15, 15))\n",
    "    test(not is_factor(25, 15))\n",
    "test_suite()"
   ]
  },
  {
   "cell_type": "code",
   "execution_count": 43,
   "metadata": {},
   "outputs": [
    {
     "name": "stdout",
     "output_type": "stream",
     "text": [
      "Test at line 21 ok.\n",
      "Test at line 22 ok.\n",
      "Test at line 23 ok.\n",
      "Test at line 24 ok.\n",
      "Test at line 25 ok.\n"
     ]
    }
   ],
   "source": [
    "import sys\n",
    "\n",
    "def is_multiple(m1, m2):\n",
    "    if is_factor(m2, m1) == True:\n",
    "        return True\n",
    "    else:\n",
    "        return False\n",
    "    \n",
    "def test(did_pass):\n",
    "    \"\"\" Print the result of a test. \"\"\"\n",
    "    linenum = sys._getframe(1).f_lineno # Get the caller's line number\n",
    "    if did_pass:\n",
    "        msg = \"Test at line {0} ok.\".format(linenum)\n",
    "    else:\n",
    "        msg = (\"Test at line {0} FAILED.\".format(linenum))\n",
    "    print(msg)\n",
    "    \n",
    "def test_suite():\n",
    "    \n",
    "    \"\"\" Run the suite of tests for code in this module (this file).\"\"\"\n",
    "    test(is_multiple(12, 3))\n",
    "    test(is_multiple(12, 4))\n",
    "    test(not is_multiple(12, 5))\n",
    "    test(is_multiple(12, 6))\n",
    "    test(not is_multiple(12, 7))\n",
    "test_suite()"
   ]
  },
  {
   "cell_type": "code",
   "execution_count": 44,
   "metadata": {},
   "outputs": [
    {
     "name": "stdout",
     "output_type": "stream",
     "text": [
      "Test at line 22 ok.\n",
      "Test at line 23 ok.\n",
      "Test at line 24 ok.\n",
      "Test at line 25 ok.\n",
      "Test at line 26 ok.\n",
      "Test at line 27 ok.\n",
      "Test at line 28 ok.\n",
      "Test at line 29 ok.\n",
      "Test at line 30 ok.\n",
      "Test at line 31 ok.\n",
      "Test at line 32 ok.\n",
      "Test at line 33 ok.\n",
      "Test at line 34 ok.\n"
     ]
    }
   ],
   "source": [
    "import sys\n",
    "\n",
    "def f2c(t):\n",
    "    c = 5 * (t - 32) / 9\n",
    "    return round(c, 0)\n",
    "def c2f(t):\n",
    "    f = 9 * t / 5 + 32\n",
    "    return round(f,0)\n",
    "    \n",
    "def test(did_pass):\n",
    "    \"\"\" Print the result of a test. \"\"\"\n",
    "    linenum = sys._getframe(1).f_lineno # Get the caller's line number\n",
    "    if did_pass:\n",
    "        msg = \"Test at line {0} ok.\".format(linenum)\n",
    "    else:\n",
    "        msg = (\"Test at line {0} FAILED.\".format(linenum))\n",
    "    print(msg)\n",
    "    \n",
    "def test_suite():\n",
    "    \n",
    "    \"\"\" Run the suite of tests for code in this module (this file).\"\"\"\n",
    "    test(f2c(212) == 100) # Boiling point of water\n",
    "    test(f2c(32) == 0) # Freezing point of water\n",
    "    test(f2c(-40) == -40) # Wow, what an interesting case!\n",
    "    test(f2c(36) == 2)\n",
    "    test(f2c(37) == 3)\n",
    "    test(f2c(38) == 3)\n",
    "    test(f2c(39) == 4)\n",
    "    test(c2f(0) == 32)\n",
    "    test(c2f(100) == 212)\n",
    "    test(c2f(-40) == -40)\n",
    "    test(c2f(12) == 54)\n",
    "    test(c2f(18) == 64)\n",
    "    test(c2f(-48) == -54)\n",
    "test_suite()"
   ]
  }
 ],
 "metadata": {
  "kernelspec": {
   "display_name": "Python 3",
   "language": "python",
   "name": "python3"
  },
  "language_info": {
   "codemirror_mode": {
    "name": "ipython",
    "version": 3
   },
   "file_extension": ".py",
   "mimetype": "text/x-python",
   "name": "python",
   "nbconvert_exporter": "python",
   "pygments_lexer": "ipython3",
   "version": "3.7.6"
  }
 },
 "nbformat": 4,
 "nbformat_minor": 4
}
