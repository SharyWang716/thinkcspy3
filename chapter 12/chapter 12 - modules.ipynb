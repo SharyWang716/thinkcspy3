{
 "cells": [
  {
   "cell_type": "code",
   "execution_count": 2,
   "metadata": {},
   "outputs": [],
   "source": [
    "#random\n",
    "import random\n",
    "rng = random.Random()\n",
    "dice_throw = rng.randrange(1, 7) #return an int, one of 1,2,3,4,5,6\n",
    "delay_in_seconds = rng.random() * 5.0\n"
   ]
  },
  {
   "cell_type": "code",
   "execution_count": 3,
   "metadata": {},
   "outputs": [],
   "source": [
    "cards  = list(range(52)) #generate ints [0, ..., 51]\n",
    "                         #shuffle cannot work directly with a lazy promise, so we had to convert the range object using the list type first\n",
    "rng.shuffle(cards)"
   ]
  },
  {
   "cell_type": "code",
   "execution_count": null,
   "metadata": {},
   "outputs": [],
   "source": [
    "#initialized seed\n",
    "drng = random.Random(123)"
   ]
  },
  {
   "cell_type": "code",
   "execution_count": 1,
   "metadata": {},
   "outputs": [
    {
     "data": {
      "text/plain": [
       "[3, 1, 1, 9, 12]"
      ]
     },
     "execution_count": 1,
     "metadata": {},
     "output_type": "execute_result"
    }
   ],
   "source": [
    "import random\n",
    "def make_random_ints(num, lower_bound, upper_bound):\n",
    "    \"\"\"generate a list containing num random ints between lower_bound and upper_bound.upper_bound is an open bound\"\"\"\n",
    "    rng = random.Random()\n",
    "    result = []\n",
    "    for i in range(num):\n",
    "        result.append(rng.randrange(lower_bound, upper_bound))#有放回的小球问题\n",
    "        rng.shuffle(result)\n",
    "    return result\n",
    "\n",
    "make_random_ints(5, 1, 13)"
   ]
  },
  {
   "cell_type": "code",
   "execution_count": 3,
   "metadata": {},
   "outputs": [
    {
     "data": {
      "text/plain": [
       "[10, 12, 9, 9, 12]"
      ]
     },
     "execution_count": 3,
     "metadata": {},
     "output_type": "execute_result"
    }
   ],
   "source": [
    "#without any duplicates\n",
    "xs = list(range(1,13))# make list 1 ..12 (there are no duplicates)，无放回的小球问题。但只适用于小范围，不然会超出运算量\n",
    "rng = random.Random()# make a random number generator\n",
    "rng.shuffle(xs) # shuffle the list\n",
    "result = xs[:5]# take the first five elements\n"
   ]
  },
  {
   "cell_type": "code",
   "execution_count": 13,
   "metadata": {},
   "outputs": [
    {
     "data": {
      "text/plain": [
       "[1, 3, 10, 5, 1]"
      ]
     },
     "execution_count": 13,
     "metadata": {},
     "output_type": "execute_result"
    }
   ],
   "source": [
    "import random\n",
    "def make_random_ints(num, lower_bound, upper_bound):\n",
    "    \"\"\"generate a list containing num random ints between lower_bound and upper_bound.upper_bound is an open bound\"\"\"\n",
    "    rng = random.Random()\n",
    "    result = []\n",
    "    for i in range(num):\n",
    "        result.append(rng.randrange(lower_bound, upper_bound))\n",
    "    return result\n",
    "xs = make_random_ints(5, 1, 13)\n",
    "rng.shuffle(xs)\n",
    "xs[:5]"
   ]
  },
  {
   "cell_type": "code",
   "execution_count": 16,
   "metadata": {},
   "outputs": [
    {
     "name": "stdout",
     "output_type": "stream",
     "text": [
      "[3543047, 2326135, 5001632, 1889042, 5560177]\n"
     ]
    }
   ],
   "source": [
    "#大范围随机抽样\n",
    "import random\n",
    "def make_random_ints_no_dups(num, lower_bound, upper_bound):\n",
    "    \"\"\"...the result cannot contain duplicates\"\"\"\n",
    "    result = []\n",
    "    rng = random.Random()\n",
    "    for i in range(num):\n",
    "        while True:\n",
    "            candidate = rng.randrange(lower_bound, upper_bound)\n",
    "            if candidate not in result:\n",
    "                break\n",
    "        result.append(candidate)\n",
    "    return result\n",
    "\n",
    "xs = make_random_ints_no_dups(5,1,10000000)\n",
    "#xs = make_random_ints_no_dups(10,1,6)\n",
    "print(xs)"
   ]
  },
  {
   "cell_type": "code",
   "execution_count": 17,
   "metadata": {},
   "outputs": [
    {
     "name": "stdout",
     "output_type": "stream",
     "text": [
      "my_result   = 499999500000 (time taken = 0.1011 seconds)\n",
      "their_result = 499999500000 (time taken = 0.0553 seconds)\n"
     ]
    },
    {
     "name": "stderr",
     "output_type": "stream",
     "text": [
      "D:\\ana\\lib\\site-packages\\ipykernel_launcher.py:11: DeprecationWarning: time.clock has been deprecated in Python 3.3 and will be removed from Python 3.8: use time.perf_counter or time.process_time instead\n",
      "  # This is added back by InteractiveShellApp.init_path()\n",
      "D:\\ana\\lib\\site-packages\\ipykernel_launcher.py:13: DeprecationWarning: time.clock has been deprecated in Python 3.3 and will be removed from Python 3.8: use time.perf_counter or time.process_time instead\n",
      "  del sys.path[0]\n",
      "D:\\ana\\lib\\site-packages\\ipykernel_launcher.py:16: DeprecationWarning: time.clock has been deprecated in Python 3.3 and will be removed from Python 3.8: use time.perf_counter or time.process_time instead\n",
      "  app.launch_new_instance()\n",
      "D:\\ana\\lib\\site-packages\\ipykernel_launcher.py:18: DeprecationWarning: time.clock has been deprecated in Python 3.3 and will be removed from Python 3.8: use time.perf_counter or time.process_time instead\n"
     ]
    }
   ],
   "source": [
    "#the time module\n",
    "import time\n",
    "def do_my_sum(xs):\n",
    "    sum = 0\n",
    "    for v in xs:\n",
    "        sum += v\n",
    "    return sum\n",
    "\n",
    "sz = 1000000\n",
    "testdata = range(sz)\n",
    "t0 = time.clock()\n",
    "my_result = do_my_sum(testdata)\n",
    "t1 = time.clock()\n",
    "print(\"my_result   = {0} (time taken = {1:.4f} seconds)\".format(my_result, t1 - t0))\n",
    "\n",
    "t2 = time.clock()\n",
    "their_result = sum(testdata)\n",
    "t3 = time.clock()\n",
    "print(\"their_result = {0} (time taken = {1:.4f} seconds)\".format(their_result, t3 - t2))\n"
   ]
  },
  {
   "cell_type": "code",
   "execution_count": null,
   "metadata": {},
   "outputs": [],
   "source": [
    "#the math module\n",
    "import math\n",
    "math.pi\n",
    "math.e\n",
    "math.sqrt(2.0)\n",
    "math.radians(90)\n",
    "math.sin(math.radians(90))\n",
    "math.asin(1.0) * 2"
   ]
  },
  {
   "cell_type": "code",
   "execution_count": null,
   "metadata": {},
   "outputs": [],
   "source": [
    "#create our own modules and save those script as a file: seqtool.py\n",
    "def remove_at(pos, seq):\n",
    "    return seq[:pos] + seq[pos+1:]"
   ]
  },
  {
   "cell_type": "code",
   "execution_count": 18,
   "metadata": {},
   "outputs": [
    {
     "ename": "ModuleNotFoundError",
     "evalue": "No module named 'seqtools'",
     "output_type": "error",
     "traceback": [
      "\u001b[1;31m---------------------------------------------------------------------------\u001b[0m",
      "\u001b[1;31mModuleNotFoundError\u001b[0m                       Traceback (most recent call last)",
      "\u001b[1;32m<ipython-input-18-5a021645d405>\u001b[0m in \u001b[0;36m<module>\u001b[1;34m\u001b[0m\n\u001b[0;32m      1\u001b[0m \u001b[1;31m#structure\u001b[0m\u001b[1;33m\u001b[0m\u001b[1;33m\u001b[0m\u001b[1;33m\u001b[0m\u001b[0m\n\u001b[1;32m----> 2\u001b[1;33m \u001b[1;32mimport\u001b[0m \u001b[0mseqtools\u001b[0m\u001b[1;33m\u001b[0m\u001b[1;33m\u001b[0m\u001b[0m\n\u001b[0m\u001b[0;32m      3\u001b[0m \u001b[0ms\u001b[0m \u001b[1;33m=\u001b[0m \u001b[1;34m\"a string\"\u001b[0m\u001b[1;33m\u001b[0m\u001b[1;33m\u001b[0m\u001b[0m\n\u001b[0;32m      4\u001b[0m \u001b[0mseqtools\u001b[0m\u001b[1;33m.\u001b[0m\u001b[0mremove_at\u001b[0m\u001b[1;33m(\u001b[0m\u001b[1;36m4\u001b[0m\u001b[1;33m,\u001b[0m \u001b[0ms\u001b[0m\u001b[1;33m)\u001b[0m\u001b[1;33m\u001b[0m\u001b[1;33m\u001b[0m\u001b[0m\n",
      "\u001b[1;31mModuleNotFoundError\u001b[0m: No module named 'seqtools'"
     ]
    }
   ],
   "source": [
    "#structure\n",
    "import seqtools\n",
    "s = \"a string\"\n",
    "seqtools.remove_at(4, s)"
   ]
  },
  {
   "cell_type": "code",
   "execution_count": null,
   "metadata": {},
   "outputs": [],
   "source": [
    "# namespace\n",
    "# module1.py\n",
    "question = \"What is the meaning of Life, the Universe, and Everything?\"\n",
    "answer = 42\n",
    "\n",
    "#module2.py\n",
    "question = \"What is your quest?\"\n",
    "answer = \"To seek the holy grail.\"\n",
    "\n",
    "import module1\n",
    "import module2\n",
    "\n",
    "print(module1.question)\n",
    "print(module2.question)\n",
    "print(module1.answer)\n",
    "print(module2.answer)"
   ]
  },
  {
   "cell_type": "code",
   "execution_count": 1,
   "metadata": {},
   "outputs": [
    {
     "name": "stdout",
     "output_type": "stream",
     "text": [
      "17 10 3\n"
     ]
    }
   ],
   "source": [
    "# global scope and local scope\n",
    "n = 10\n",
    "m = 3\n",
    "def f(n):\n",
    "    m = 7\n",
    "    return 2 * n + m\n",
    "\n",
    "print(f(5), n, m)"
   ]
  },
  {
   "cell_type": "code",
   "execution_count": null,
   "metadata": {},
   "outputs": [],
   "source": [
    "#three import statement\n",
    "import math\n",
    "x = math.sqrt(10)\n",
    "\n",
    "\n",
    "from math import cos, sin, sqrt\n",
    "x = sqrt(10)\n",
    "\n",
    "from math import *  # import all the identifiers from math, adding them to the current namespace\n",
    "x = sqrt(10)\n",
    "\n",
    "\n",
    "import math as m\n",
    "m.pi"
   ]
  },
  {
   "cell_type": "code",
   "execution_count": 3,
   "metadata": {},
   "outputs": [
    {
     "name": "stdout",
     "output_type": "stream",
     "text": [
      "78.53981633974483\n"
     ]
    }
   ],
   "source": [
    "def area(radius):\n",
    "    import math\n",
    "    return math.pi * radius * radius\n",
    "\n",
    "#x = math.sqrt(10) # this will make error because math is not in global scope but in local scope in this module\n",
    "x = area(5)\n",
    "print(x)"
   ]
  },
  {
   "cell_type": "code",
   "execution_count": 8,
   "metadata": {},
   "outputs": [
    {
     "name": "stdout",
     "output_type": "stream",
     "text": [
      "                                  2012\n",
      "\n",
      "      January                   February                   March\n",
      "Mo Tu We Th Fr Sa Su      Mo Tu We Th Fr Sa Su      Mo Tu We Th Fr Sa Su\n",
      "                   1             1  2  3  4  5                1  2  3  4\n",
      " 2  3  4  5  6  7  8       6  7  8  9 10 11 12       5  6  7  8  9 10 11\n",
      " 9 10 11 12 13 14 15      13 14 15 16 17 18 19      12 13 14 15 16 17 18\n",
      "16 17 18 19 20 21 22      20 21 22 23 24 25 26      19 20 21 22 23 24 25\n",
      "23 24 25 26 27 28 29      27 28 29                  26 27 28 29 30 31\n",
      "30 31\n",
      "\n",
      "       April                      May                       June\n",
      "Mo Tu We Th Fr Sa Su      Mo Tu We Th Fr Sa Su      Mo Tu We Th Fr Sa Su\n",
      "                   1          1  2  3  4  5  6                   1  2  3\n",
      " 2  3  4  5  6  7  8       7  8  9 10 11 12 13       4  5  6  7  8  9 10\n",
      " 9 10 11 12 13 14 15      14 15 16 17 18 19 20      11 12 13 14 15 16 17\n",
      "16 17 18 19 20 21 22      21 22 23 24 25 26 27      18 19 20 21 22 23 24\n",
      "23 24 25 26 27 28 29      28 29 30 31               25 26 27 28 29 30\n",
      "30\n",
      "\n",
      "        July                     August                  September\n",
      "Mo Tu We Th Fr Sa Su      Mo Tu We Th Fr Sa Su      Mo Tu We Th Fr Sa Su\n",
      "                   1             1  2  3  4  5                      1  2\n",
      " 2  3  4  5  6  7  8       6  7  8  9 10 11 12       3  4  5  6  7  8  9\n",
      " 9 10 11 12 13 14 15      13 14 15 16 17 18 19      10 11 12 13 14 15 16\n",
      "16 17 18 19 20 21 22      20 21 22 23 24 25 26      17 18 19 20 21 22 23\n",
      "23 24 25 26 27 28 29      27 28 29 30 31            24 25 26 27 28 29 30\n",
      "30 31\n",
      "\n",
      "      October                   November                  December\n",
      "Mo Tu We Th Fr Sa Su      Mo Tu We Th Fr Sa Su      Mo Tu We Th Fr Sa Su\n",
      " 1  2  3  4  5  6  7                1  2  3  4                      1  2\n",
      " 8  9 10 11 12 13 14       5  6  7  8  9 10 11       3  4  5  6  7  8  9\n",
      "15 16 17 18 19 20 21      12 13 14 15 16 17 18      10 11 12 13 14 15 16\n",
      "22 23 24 25 26 27 28      19 20 21 22 23 24 25      17 18 19 20 21 22 23\n",
      "29 30 31                  26 27 28 29 30            24 25 26 27 28 29 30\n",
      "                                                    31\n"
     ]
    }
   ],
   "source": [
    "#exercise 1\n",
    "#(a)\n",
    "import calendar\n",
    "cal = calendar.TextCalendar()\n",
    "cal.pryear(2012)"
   ]
  },
  {
   "cell_type": "code",
   "execution_count": 10,
   "metadata": {},
   "outputs": [
    {
     "name": "stdout",
     "output_type": "stream",
     "text": [
      "                                  2012\n",
      "\n",
      "      January                   February                   March\n",
      "Th Fr Sa Su Mo Tu We      Th Fr Sa Su Mo Tu We      Th Fr Sa Su Mo Tu We\n",
      "          1  2  3  4                         1       1  2  3  4  5  6  7\n",
      " 5  6  7  8  9 10 11       2  3  4  5  6  7  8       8  9 10 11 12 13 14\n",
      "12 13 14 15 16 17 18       9 10 11 12 13 14 15      15 16 17 18 19 20 21\n",
      "19 20 21 22 23 24 25      16 17 18 19 20 21 22      22 23 24 25 26 27 28\n",
      "26 27 28 29 30 31         23 24 25 26 27 28 29      29 30 31\n",
      "\n",
      "       April                      May                       June\n",
      "Th Fr Sa Su Mo Tu We      Th Fr Sa Su Mo Tu We      Th Fr Sa Su Mo Tu We\n",
      "          1  2  3  4                      1  2          1  2  3  4  5  6\n",
      " 5  6  7  8  9 10 11       3  4  5  6  7  8  9       7  8  9 10 11 12 13\n",
      "12 13 14 15 16 17 18      10 11 12 13 14 15 16      14 15 16 17 18 19 20\n",
      "19 20 21 22 23 24 25      17 18 19 20 21 22 23      21 22 23 24 25 26 27\n",
      "26 27 28 29 30            24 25 26 27 28 29 30      28 29 30\n",
      "                          31\n",
      "\n",
      "        July                     August                  September\n",
      "Th Fr Sa Su Mo Tu We      Th Fr Sa Su Mo Tu We      Th Fr Sa Su Mo Tu We\n",
      "          1  2  3  4                         1             1  2  3  4  5\n",
      " 5  6  7  8  9 10 11       2  3  4  5  6  7  8       6  7  8  9 10 11 12\n",
      "12 13 14 15 16 17 18       9 10 11 12 13 14 15      13 14 15 16 17 18 19\n",
      "19 20 21 22 23 24 25      16 17 18 19 20 21 22      20 21 22 23 24 25 26\n",
      "26 27 28 29 30 31         23 24 25 26 27 28 29      27 28 29 30\n",
      "                          30 31\n",
      "\n",
      "      October                   November                  December\n",
      "Th Fr Sa Su Mo Tu We      Th Fr Sa Su Mo Tu We      Th Fr Sa Su Mo Tu We\n",
      "             1  2  3       1  2  3  4  5  6  7             1  2  3  4  5\n",
      " 4  5  6  7  8  9 10       8  9 10 11 12 13 14       6  7  8  9 10 11 12\n",
      "11 12 13 14 15 16 17      15 16 17 18 19 20 21      13 14 15 16 17 18 19\n",
      "18 19 20 21 22 23 24      22 23 24 25 26 27 28      20 21 22 23 24 25 26\n",
      "25 26 27 28 29 30 31      29 30                     27 28 29 30 31\n"
     ]
    }
   ],
   "source": [
    "#(b)\n",
    "import calendar\n",
    "cal = calendar.TextCalendar()\n",
    "cal.setfirstweekday(firstweekday = 3)\n",
    "cal.pryear(2012)"
   ]
  },
  {
   "cell_type": "code",
   "execution_count": 12,
   "metadata": {},
   "outputs": [
    {
     "name": "stdout",
     "output_type": "stream",
     "text": [
      "     July 2012\n",
      "Th Fr Sa Su Mo Tu We\n",
      "          1  2  3  4\n",
      " 5  6  7  8  9 10 11\n",
      "12 13 14 15 16 17 18\n",
      "19 20 21 22 23 24 25\n",
      "26 27 28 29 30 31\n"
     ]
    }
   ],
   "source": [
    "#(c)\n",
    "cal.prmonth(2012, 7)"
   ]
  },
  {
   "cell_type": "code",
   "execution_count": 14,
   "metadata": {},
   "outputs": [
    {
     "name": "stdout",
     "output_type": "stream",
     "text": [
      "                                  2012\n",
      "\n",
      "      januari                   februari                   maart\n",
      "zo ma di wo do vr za      zo ma di wo do vr za      zo ma di wo do vr za\n",
      " 1  2  3  4  5  6  7                1  2  3  4                   1  2  3\n",
      " 8  9 10 11 12 13 14       5  6  7  8  9 10 11       4  5  6  7  8  9 10\n",
      "15 16 17 18 19 20 21      12 13 14 15 16 17 18      11 12 13 14 15 16 17\n",
      "22 23 24 25 26 27 28      19 20 21 22 23 24 25      18 19 20 21 22 23 24\n",
      "29 30 31                  26 27 28 29               25 26 27 28 29 30 31\n",
      "\n",
      "       april                      mei                       juni\n",
      "zo ma di wo do vr za      zo ma di wo do vr za      zo ma di wo do vr za\n",
      " 1  2  3  4  5  6  7             1  2  3  4  5                      1  2\n",
      " 8  9 10 11 12 13 14       6  7  8  9 10 11 12       3  4  5  6  7  8  9\n",
      "15 16 17 18 19 20 21      13 14 15 16 17 18 19      10 11 12 13 14 15 16\n",
      "22 23 24 25 26 27 28      20 21 22 23 24 25 26      17 18 19 20 21 22 23\n",
      "29 30                     27 28 29 30 31            24 25 26 27 28 29 30\n",
      "\n",
      "        juli                    augustus                 september\n",
      "zo ma di wo do vr za      zo ma di wo do vr za      zo ma di wo do vr za\n",
      " 1  2  3  4  5  6  7                1  2  3  4                         1\n",
      " 8  9 10 11 12 13 14       5  6  7  8  9 10 11       2  3  4  5  6  7  8\n",
      "15 16 17 18 19 20 21      12 13 14 15 16 17 18       9 10 11 12 13 14 15\n",
      "22 23 24 25 26 27 28      19 20 21 22 23 24 25      16 17 18 19 20 21 22\n",
      "29 30 31                  26 27 28 29 30 31         23 24 25 26 27 28 29\n",
      "                                                    30\n",
      "\n",
      "      oktober                   november                  december\n",
      "zo ma di wo do vr za      zo ma di wo do vr za      zo ma di wo do vr za\n",
      "    1  2  3  4  5  6                   1  2  3                         1\n",
      " 7  8  9 10 11 12 13       4  5  6  7  8  9 10       2  3  4  5  6  7  8\n",
      "14 15 16 17 18 19 20      11 12 13 14 15 16 17       9 10 11 12 13 14 15\n",
      "21 22 23 24 25 26 27      18 19 20 21 22 23 24      16 17 18 19 20 21 22\n",
      "28 29 30 31               25 26 27 28 29 30         23 24 25 26 27 28 29\n",
      "                                                    30 31\n"
     ]
    }
   ],
   "source": [
    "#(d)\n",
    "#d = calendar.LocaleTextCalendar(6, \"SPANISH\")\n",
    "d = calendar.LocaleTextCalendar(6, \"DUTCH\")\n",
    "d.pryear(2012)"
   ]
  },
  {
   "cell_type": "code",
   "execution_count": 16,
   "metadata": {},
   "outputs": [
    {
     "data": {
      "text/plain": [
       "True"
      ]
     },
     "execution_count": 16,
     "metadata": {},
     "output_type": "execute_result"
    }
   ],
   "source": [
    "#(e)\n",
    "calendar.isleap(2012) #判断是否为闰年"
   ]
  },
  {
   "cell_type": "code",
   "execution_count": 19,
   "metadata": {},
   "outputs": [
    {
     "data": {
      "text/plain": [
       "4"
      ]
     },
     "execution_count": 19,
     "metadata": {},
     "output_type": "execute_result"
    }
   ],
   "source": [
    "# math\n",
    "import math\n",
    "math.ceil(3.14) #浮点数向上取整"
   ]
  },
  {
   "cell_type": "code",
   "execution_count": 20,
   "metadata": {},
   "outputs": [
    {
     "data": {
      "text/plain": [
       "3"
      ]
     },
     "execution_count": 20,
     "metadata": {},
     "output_type": "execute_result"
    }
   ],
   "source": [
    "math.floor(3.14) #浮点数向下取整"
   ]
  },
  {
   "cell_type": "code",
   "execution_count": 22,
   "metadata": {},
   "outputs": [
    {
     "data": {
      "text/plain": [
       "2.0"
      ]
     },
     "execution_count": 22,
     "metadata": {},
     "output_type": "execute_result"
    }
   ],
   "source": [
    "#math.sqrt(4)\n",
    "pow(4, 0.5)"
   ]
  },
  {
   "cell_type": "code",
   "execution_count": null,
   "metadata": {},
   "outputs": [],
   "source": [
    "#copy\n",
    "copy.copy()# 浅copy,仅负责父对象\n",
    "copy.deepcopy() #深copy，复制父对象和子对象"
   ]
  },
  {
   "cell_type": "code",
   "execution_count": 5,
   "metadata": {},
   "outputs": [
    {
     "name": "stdout",
     "output_type": "stream",
     "text": [
      "The Zen of Python, by Tim Peters\n",
      "\n",
      "Beautiful is better than ugly.\n",
      "Explicit is better than implicit.\n",
      "Simple is better than complex.\n",
      "Complex is better than complicated.\n",
      "Flat is better than nested.\n",
      "Sparse is better than dense.\n",
      "Readability counts.\n",
      "Special cases aren't special enough to break the rules.\n",
      "Although practicality beats purity.\n",
      "Errors should never pass silently.\n",
      "Unless explicitly silenced.\n",
      "In the face of ambiguity, refuse the temptation to guess.\n",
      "There should be one-- and preferably only one --obvious way to do it.\n",
      "Although that way may not be obvious at first unless you're Dutch.\n",
      "Now is better than never.\n",
      "Although never is often better than *right* now.\n",
      "If the implementation is hard to explain, it's a bad idea.\n",
      "If the implementation is easy to explain, it may be a good idea.\n",
      "Namespaces are one honking great idea -- let's do more of those!\n"
     ]
    }
   ],
   "source": [
    "import this"
   ]
  },
  {
   "cell_type": "code",
   "execution_count": 9,
   "metadata": {},
   "outputs": [
    {
     "data": {
      "text/plain": [
       "['if',\n",
       " 'we',\n",
       " 'took',\n",
       " 'the',\n",
       " 'bones',\n",
       " 'out,',\n",
       " 'it',\n",
       " 'wouldn’t',\n",
       " 'be',\n",
       " 'crunchy,',\n",
       " 'would',\n",
       " 'it?']"
      ]
     },
     "execution_count": 9,
     "metadata": {},
     "output_type": "execute_result"
    }
   ],
   "source": [
    "s = \"if we took  the bones out, it wouldn’t be crunchy, would it?\"\n",
    "s.split()\n",
    "#type(s.split()) #list"
   ]
  },
  {
   "cell_type": "code",
   "execution_count": 7,
   "metadata": {},
   "outputs": [
    {
     "data": {
      "text/plain": [
       "['if we t',\n",
       " '',\n",
       " 'k  the b',\n",
       " 'nes ',\n",
       " 'ut, it w',\n",
       " 'uldn’t be crunchy, w',\n",
       " 'uld it?']"
      ]
     },
     "execution_count": 7,
     "metadata": {},
     "output_type": "execute_result"
    }
   ],
   "source": [
    "s.split(\"o\")"
   ]
  },
  {
   "cell_type": "code",
   "execution_count": 10,
   "metadata": {},
   "outputs": [
    {
     "data": {
      "text/plain": [
       "['', 'f we took  the bones out, ', 't wouldn’t be crunchy, would ', 't?']"
      ]
     },
     "execution_count": 10,
     "metadata": {},
     "output_type": "execute_result"
    }
   ],
   "source": [
    "s.split(\"i\")"
   ]
  },
  {
   "cell_type": "code",
   "execution_count": 11,
   "metadata": {},
   "outputs": [
    {
     "data": {
      "text/plain": [
       "'if we t00k  the b0nes 0ut, it w0uldn’t be crunchy, w0uld it?'"
      ]
     },
     "execution_count": 11,
     "metadata": {},
     "output_type": "execute_result"
    }
   ],
   "source": [
    "\"0\".join(s.split(\"o\"))"
   ]
  },
  {
   "cell_type": "code",
   "execution_count": 13,
   "metadata": {},
   "outputs": [
    {
     "name": "stdout",
     "output_type": "stream",
     "text": [
      "Test at line 15 ok.\n",
      "Test at line 16 ok.\n"
     ]
    }
   ],
   "source": [
    "import sys\n",
    "def myreplace(old, new, s):\n",
    "    \"\"\"replace all occurrences of old with new in s.\"\"\"\n",
    "    return new.join(s.split(old))\n",
    "\n",
    "def test(did_pass):\n",
    "    linenum = sys._getframe(1).f_lineno #get the caller's line number\n",
    "    if did_pass:\n",
    "        msg = \"Test at line {0} ok.\".format(linenum)\n",
    "    else:\n",
    "        msg = (\"Test at line {0} FAILED.\".format(linenum))\n",
    "    print(msg)\n",
    "\n",
    "def test_suite():\n",
    "    test(myreplace(\",\", \";\", \"this, that, and some other thing\") == \"this; that; and some other thing\")\n",
    "    test(myreplace(\" \", \"**\", \"Words will now be separated by stars.\") == \"Words**will**now**be**separated**by**stars.\")\n",
    "test_suite()"
   ]
  },
  {
   "cell_type": "code",
   "execution_count": 30,
   "metadata": {},
   "outputs": [
    {
     "name": "stdout",
     "output_type": "stream",
     "text": [
      "Test at line 60 ok.\n",
      "Test at line 61 ok.\n",
      "Test at line 62 ok.\n",
      "Test at line 63 ok.\n",
      "Test at line 64 ok.\n",
      "Test at line 65 ok.\n",
      "Test at line 66 ok.\n",
      "Test at line 67 ok.\n",
      "Test at line 68 ok.\n",
      "Test at line 69 ok.\n",
      "Test at line 70 ok.\n",
      "Test at line 71 ok.\n",
      "Test at line 72 ok.\n",
      "Test at line 73 ok.\n",
      "Test at line 74 ok.\n",
      "Test at line 75 ok.\n",
      "Test at line 76 ok.\n",
      "Test at line 77 ok.\n",
      "Test at line 78 ok.\n",
      "Test at line 79 ok.\n",
      "Test at line 80 ok.\n"
     ]
    }
   ],
   "source": [
    "import sys\n",
    "import string\n",
    "def cleanword(s):\n",
    "    temp = \"\"\n",
    "    for letter in s:\n",
    "        if letter not in string.punctuation:\n",
    "            temp += letter\n",
    "    return temp\n",
    "    #return \"\".join(s.split(string.punctuation))\n",
    "\n",
    "def has_dashdash(s):\n",
    "    if \"--\" in s:\n",
    "        return True\n",
    "    return False\n",
    "\n",
    "def cleansentences(s):\n",
    "    temp = \"\"\n",
    "    for i in s:\n",
    "        if i not in string.punctuation:\n",
    "            temp += i\n",
    "        elif i in string.punctuation:\n",
    "            temp += \" \"\n",
    "    return temp\n",
    "\n",
    "def extract_words(s):\n",
    "    return ((cleansentences(s)).lower()).split()\n",
    "\n",
    "def wordcount(w, s):\n",
    "    count = 0\n",
    "    for i in range(len(s)):\n",
    "        if s[i] == w:\n",
    "            count += 1\n",
    "    return count\n",
    "\n",
    "def wordset(l):\n",
    "    temp = []\n",
    "    for i in range(len(l)):\n",
    "        if l[i] not in temp:\n",
    "            temp.append(l[i])\n",
    "    temp.sort()\n",
    "    return temp\n",
    "\n",
    "def longestword(l):\n",
    "    temp = 0\n",
    "    for i in range(len(l)):\n",
    "        if len(l[i]) >= temp:\n",
    "            temp = len(l[i])\n",
    "    return temp\n",
    "\n",
    "def test(did_pass):\n",
    "    linenum = sys._getframe(1).f_lineno #get the caller's line number\n",
    "    if did_pass:\n",
    "        msg = \"Test at line {0} ok.\".format(linenum)\n",
    "    else:\n",
    "        msg = (\"Test at line {0} FAILED.\".format(linenum))\n",
    "    print(msg)\n",
    "\n",
    "def test_suite():\n",
    "    \n",
    "    test(cleanword(\"what?\") == \"what\")\n",
    "    test(cleanword(\"'now!'\") == \"now\")\n",
    "    test(cleanword(\"?+='w-o-r-d!,@$()'\") ==  \"word\")\n",
    "    test(has_dashdash(\"distance--but\"))\n",
    "    test(not has_dashdash(\"several\"))\n",
    "    test(has_dashdash(\"spoke--\"))\n",
    "    test(has_dashdash(\"distance--but\"))\n",
    "    test(not has_dashdash(\"-yo-yo-\"))\n",
    "    test(extract_words(\"Now is the time!  'Now', is the time? Yes, now.\") == ['now','is','the','time','now','is','the','time','yes','now'])\n",
    "    test(extract_words(\"she tried to curtsey as she spoke--fancy\") == ['she','tried','to','curtsey','as','she','spoke','fancy'])\n",
    "    test(wordcount(\"now\", [\"now\",\"is\",\"time\",\"is\",\"now\",\"is\",\"is\"]) == 2)\n",
    "    test(wordcount(\"is\", [\"now\",\"is\",\"time\",\"is\",\"now\",\"the\",\"is\"]) == 3)\n",
    "    test(wordcount(\"time\", [\"now\",\"is\",\"time\",\"is\",\"now\",\"is\",\"is\"]) == 1)\n",
    "    test(wordcount(\"frog\", [\"now\",\"is\",\"time\",\"is\",\"now\",\"is\",\"is\"]) == 0)\n",
    "    test(wordset([\"now\", \"is\", \"time\", \"is\", \"now\", \"is\", \"is\"]) == [\"is\", \"now\", \"time\"])\n",
    "    test(wordset([\"I\", \"a\", \"a\", \"is\", \"a\", \"is\", \"I\", \"am\"]) == [\"I\", \"a\", \"am\", \"is\"])\n",
    "    test(wordset([\"or\", \"a\", \"am\", \"is\", \"are\", \"be\", \"but\", \"am\"]) == [\"a\", \"am\", \"are\", \"be\", \"but\", \"is\", \"or\"])\n",
    "    test(longestword([\"a\", \"apple\", \"pear\", \"grape\"]) == 5)\n",
    "    test(longestword([\"a\", \"am\", \"I\", \"be\"]) == 2)\n",
    "    test(longestword([\"this\",\"supercalifragilisticexpialidocious\"]) == 34)\n",
    "    test(longestword([ ]) == 0)\n",
    "\n",
    "test_suite()\n"
   ]
  },
  {
   "cell_type": "code",
   "execution_count": null,
   "metadata": {},
   "outputs": [],
   "source": []
  }
 ],
 "metadata": {
  "kernelspec": {
   "display_name": "Python 3",
   "language": "python",
   "name": "python3"
  },
  "language_info": {
   "codemirror_mode": {
    "name": "ipython",
    "version": 3
   },
   "file_extension": ".py",
   "mimetype": "text/x-python",
   "name": "python",
   "nbconvert_exporter": "python",
   "pygments_lexer": "ipython3",
   "version": "3.7.6"
  }
 },
 "nbformat": 4,
 "nbformat_minor": 4
}
