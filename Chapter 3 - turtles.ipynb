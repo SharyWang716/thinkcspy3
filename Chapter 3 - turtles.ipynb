{
 "cells": [
  {
   "cell_type": "code",
   "execution_count": 1,
   "metadata": {},
   "outputs": [],
   "source": [
    "import turtle       #allow us to use turtle\n",
    "wn = turtle.Screen() #create a playground for turtles\n",
    "alex = turtle.Turtle() #create a turtle, assign to alex\n",
    "\n",
    "alex.forward(50)      #tell alex to move forward by 50 units  (direction?)\n",
    "alex.left(90)          # turn by 90 degrees\n",
    "alex.forward(30)\n",
    "\n",
    "wn.mainloop()       #wait for user to close window\n",
    "\n"
   ]
  },
  {
   "cell_type": "code",
   "execution_count": 9,
   "metadata": {},
   "outputs": [
    {
     "name": "stdout",
     "output_type": "stream",
     "text": [
      "the background color islightgreen\n",
      "the tess color isblue\n",
      "the pensize is3\n"
     ]
    }
   ],
   "source": [
    "import turtle\n",
    "wn = turtle.Screen()\n",
    "#wn.bgcolor(\"lightgreen\") #  set the window backgroung color\n",
    "wn.title(\"hello,tess!\")\n",
    "bgcolor = wn.bgcolor(str(input(\"the background color is\")))\n",
    "\n",
    "tess = turtle.Turtle()\n",
    "#tess.color(\"blue\")\n",
    "tscolor = tess.color(str(input(\"the tess color is\")))\n",
    "#tess.pensize(3)\n",
    "tssize = tess.pensize(float(input(\"the pensize is\")))\n",
    "\n",
    "tess.forward(50)\n",
    "tess.left(120)\n",
    "tess.forward(50)\n",
    "tess.left(120)\n",
    "tess.forward(50)\n",
    "\n",
    "wn.mainloop()"
   ]
  },
  {
   "cell_type": "code",
   "execution_count": 5,
   "metadata": {},
   "outputs": [],
   "source": [
    "import turtle\n",
    "wn = turtle.Screen()\n",
    "wn.bgcolor(\"lightgreen\")\n",
    "wn.title(\"Tess & Alex\")\n",
    "\n",
    "tess = turtle.Turtle()\n",
    "tess.color(\"hotpink\")\n",
    "tess.pensize(5)\n",
    "\n",
    "alex = turtle.Turtle()\n",
    "tess.forward(80)\n",
    "tess.left(120)\n",
    "tess.forward(80)\n",
    "tess.left(120)\n",
    "tess.forward(80)\n",
    "tess.left(120)\n",
    "tess.right(180)\n",
    "tess.forward(80)\n",
    "\n",
    "#alex.forward(50)\n",
    "#alex.left(90)\n",
    "#alex.forward(50)\n",
    "#alex.left(90)\n",
    "#alex.forward(50)\n",
    "#alex.left(90)\n",
    "#alex.forward(50)\n",
    "#alex.left(90)\n",
    "\n",
    "#for c in [\"yellow\",\"red\",\"purple\",\"blue\"]:\n",
    "clrs = [\"yellow\",\"red\",\"purple\",\"blue\"]\n",
    "for c in clrs:\n",
    "    alex.color(c)\n",
    "    alex.forward(50)\n",
    "    alex.left(90)\n",
    "    \n",
    "alex.penup()\n",
    "alex.forward(100)\n",
    "alex.pendown()\n",
    "\n",
    "wn.mainloop()"
   ]
  },
  {
   "cell_type": "code",
   "execution_count": 11,
   "metadata": {},
   "outputs": [],
   "source": [
    "import turtle\n",
    "wn = turtle.Screen()\n",
    "wn.bgcolor(\"lightgreen\")\n",
    "tess = turtle.Turtle()\n",
    "tess.shape(\"turtle\")\n",
    "tess.speed(3)\n",
    "tess.color(\"blue\")\n",
    "\n",
    "tess.penup()\n",
    "size = 20\n",
    "for i in range(30):\n",
    "    tess.stamp()\n",
    "    size = size + 3\n",
    "    tess.forward(size)\n",
    "    tess.right(24)\n",
    "\n",
    "tess.shape(\"arrow\")\n",
    "tess.color(\"red\")\n",
    "tess.pendown()\n",
    "wn.mainloop()"
   ]
  },
  {
   "cell_type": "code",
   "execution_count": 12,
   "metadata": {},
   "outputs": [
    {
     "name": "stdout",
     "output_type": "stream",
     "text": [
      "we like python's turtles!\n",
      "we like python's turtles!\n",
      "we like python's turtles!\n",
      "we like python's turtles!\n",
      "we like python's turtles!\n",
      "we like python's turtles!\n",
      "we like python's turtles!\n",
      "we like python's turtles!\n",
      "we like python's turtles!\n",
      "we like python's turtles!\n"
     ]
    }
   ],
   "source": [
    "for f in range(1000):\n",
    "    print(\"we like python's turtles!\")"
   ]
  },
  {
   "cell_type": "code",
   "execution_count": null,
   "metadata": {},
   "outputs": [],
   "source": [
    "cellphone.size(100)\n",
    "cellphone.color(\"black\")\n",
    "cellphone.value(8000)"
   ]
  },
  {
   "cell_type": "code",
   "execution_count": 15,
   "metadata": {},
   "outputs": [
    {
     "name": "stdout",
     "output_type": "stream",
     "text": [
      "One of the months of the year is January\n",
      "One of the months of the year is February\n",
      "One of the months of the year is March\n",
      "One of the months of the year is April\n",
      "One of the months of the year is May\n",
      "One of the months of the year is June\n",
      "One of the months of the year is July\n",
      "One of the months of the year is August\n",
      "One of the months of the year is September\n",
      "One of the months of the year is October\n",
      "One of the months of the year is November\n",
      "One of the months of the year is December\n"
     ]
    }
   ],
   "source": [
    "months = [\"January\", \"February\", \"March\",\"April\",\"May\",\"June\",\"July\",\"August\",\"September\",\"October\",\"November\",\"December\"]\n",
    "for i in months:\n",
    "    print(\"One of the months of the year is \" + i)"
   ]
  },
  {
   "cell_type": "code",
   "execution_count": 16,
   "metadata": {},
   "outputs": [
    {
     "name": "stdout",
     "output_type": "stream",
     "text": [
      "45\n"
     ]
    }
   ],
   "source": [
    "a = 3645 % 360\n",
    "print (a)"
   ]
  },
  {
   "cell_type": "code",
   "execution_count": 25,
   "metadata": {
    "scrolled": true
   },
   "outputs": [
    {
     "name": "stdout",
     "output_type": "stream",
     "text": [
      "12 144\n",
      "10 100\n",
      "32 1024\n",
      "3 9\n",
      "66 4356\n",
      "17 289\n",
      "42 1764\n",
      "99 9801\n",
      "20 400\n",
      "301\n"
     ]
    }
   ],
   "source": [
    "xs = [12,10,32,3,66,17,42,99,20]\n",
    "total = int(0)\n",
    "for i in xs:\n",
    "    #print (i)\n",
    "    print(i,i**2)\n",
    "    total = total + i  \n",
    "print(total)\n"
   ]
  },
  {
   "cell_type": "code",
   "execution_count": 1,
   "metadata": {},
   "outputs": [],
   "source": [
    "import turtle\n",
    "wn = turtle.Screen()\n",
    "wn.bgcolor(\"lightgreen\")\n",
    "\n",
    "tess = turtle.Turtle()\n",
    "tess.color(\"hotpink\")\n",
    "for i in range(3):\n",
    "    tess.forward(30)\n",
    "    tess.left(120)\n",
    "    \n",
    "#tess.left(60)\n",
    "\n",
    "alex = turtle.Turtle()\n",
    "alex.color(\"blue\")\n",
    "#alex.penup()\n",
    "alex.forward(60)\n",
    "for c in range(4):\n",
    "    alex.forward(30)\n",
    "    alex.left(90)\n",
    "    \n",
    "#alex.left(90)\n",
    "#alex.pendown()\n",
    "\n",
    "pxx = turtle.Turtle()\n",
    "pxx.color(\"black\")\n",
    "#pxx.penup()\n",
    "pxx.forward(120)\n",
    "for a in range(6):\n",
    "    pxx.forward(30)\n",
    "    pxx.left(60)\n",
    "#pxx.left(60)\n",
    "#pxx.pendown()\n",
    "\n",
    "wzx = turtle.Turtle()\n",
    "wzx.color(\"white\")\n",
    "#wzx.penup()\n",
    "wzx.forward(180)\n",
    "for w in range(8):\n",
    "    wzx.forward(30)\n",
    "    wzx.left(45)\n",
    "#wzx.pendown()\n",
    "\n",
    "abc = turtle.Turtle()\n",
    "abc.color(\"white\")\n",
    "abc.speed(0)\n",
    "abc.forward(330)\n",
    "for z in range(18):\n",
    "    abc.forward(30)\n",
    "    abc.left(20)\n",
    "\n",
    "wn.mainloop()\n"
   ]
  },
  {
   "cell_type": "code",
   "execution_count": 3,
   "metadata": {},
   "outputs": [
    {
     "name": "stdout",
     "output_type": "stream",
     "text": [
      "45\n"
     ]
    }
   ],
   "source": [
    "a = 3645%360\n",
    "print(a)"
   ]
  },
  {
   "cell_type": "code",
   "execution_count": 33,
   "metadata": {},
   "outputs": [
    {
     "ename": "Terminator",
     "evalue": "",
     "output_type": "error",
     "traceback": [
      "\u001b[1;31m---------------------------------------------------------------------------\u001b[0m",
      "\u001b[1;31mTerminator\u001b[0m                                Traceback (most recent call last)",
      "\u001b[1;32m<ipython-input-33-bb0bdd4fa5da>\u001b[0m in \u001b[0;36m<module>\u001b[1;34m\u001b[0m\n\u001b[0;32m      1\u001b[0m \u001b[1;32mimport\u001b[0m \u001b[0mturtle\u001b[0m\u001b[1;33m\u001b[0m\u001b[1;33m\u001b[0m\u001b[0m\n\u001b[0;32m      2\u001b[0m \u001b[0mwn\u001b[0m \u001b[1;33m=\u001b[0m \u001b[0mturtle\u001b[0m\u001b[1;33m.\u001b[0m\u001b[0mScreen\u001b[0m\u001b[1;33m(\u001b[0m\u001b[1;33m)\u001b[0m \u001b[1;31m#置画布\u001b[0m\u001b[1;33m\u001b[0m\u001b[1;33m\u001b[0m\u001b[0m\n\u001b[1;32m----> 3\u001b[1;33m \u001b[0mtess\u001b[0m \u001b[1;33m=\u001b[0m \u001b[0mturtle\u001b[0m\u001b[1;33m.\u001b[0m\u001b[0mTurtle\u001b[0m\u001b[1;33m(\u001b[0m\u001b[1;33m)\u001b[0m \u001b[1;31m#放主角\u001b[0m\u001b[1;33m\u001b[0m\u001b[1;33m\u001b[0m\u001b[0m\n\u001b[0m\u001b[0;32m      4\u001b[0m \u001b[0mtess\u001b[0m\u001b[1;33m.\u001b[0m\u001b[0mright\u001b[0m\u001b[1;33m(\u001b[0m\u001b[1;36m90\u001b[0m\u001b[1;33m)\u001b[0m \u001b[1;31m#箭头朝下\u001b[0m\u001b[1;33m\u001b[0m\u001b[1;33m\u001b[0m\u001b[0m\n",
      "\u001b[1;32mD:\\ana\\lib\\turtle.py\u001b[0m in \u001b[0;36m__init__\u001b[1;34m(self, shape, undobuffersize, visible)\u001b[0m\n\u001b[0;32m   3814\u001b[0m                            \u001b[0mshape\u001b[0m\u001b[1;33m=\u001b[0m\u001b[0mshape\u001b[0m\u001b[1;33m,\u001b[0m\u001b[1;33m\u001b[0m\u001b[1;33m\u001b[0m\u001b[0m\n\u001b[0;32m   3815\u001b[0m                            \u001b[0mundobuffersize\u001b[0m\u001b[1;33m=\u001b[0m\u001b[0mundobuffersize\u001b[0m\u001b[1;33m,\u001b[0m\u001b[1;33m\u001b[0m\u001b[1;33m\u001b[0m\u001b[0m\n\u001b[1;32m-> 3816\u001b[1;33m                            visible=visible)\n\u001b[0m\u001b[0;32m   3817\u001b[0m \u001b[1;33m\u001b[0m\u001b[0m\n\u001b[0;32m   3818\u001b[0m \u001b[0mPen\u001b[0m \u001b[1;33m=\u001b[0m \u001b[0mTurtle\u001b[0m\u001b[1;33m\u001b[0m\u001b[1;33m\u001b[0m\u001b[0m\n",
      "\u001b[1;32mD:\\ana\\lib\\turtle.py\u001b[0m in \u001b[0;36m__init__\u001b[1;34m(self, canvas, shape, undobuffersize, visible)\u001b[0m\n\u001b[0;32m   2555\u001b[0m         \u001b[0mself\u001b[0m\u001b[1;33m.\u001b[0m\u001b[0m_undobuffersize\u001b[0m \u001b[1;33m=\u001b[0m \u001b[0mundobuffersize\u001b[0m\u001b[1;33m\u001b[0m\u001b[1;33m\u001b[0m\u001b[0m\n\u001b[0;32m   2556\u001b[0m         \u001b[0mself\u001b[0m\u001b[1;33m.\u001b[0m\u001b[0mundobuffer\u001b[0m \u001b[1;33m=\u001b[0m \u001b[0mTbuffer\u001b[0m\u001b[1;33m(\u001b[0m\u001b[0mundobuffersize\u001b[0m\u001b[1;33m)\u001b[0m\u001b[1;33m\u001b[0m\u001b[1;33m\u001b[0m\u001b[0m\n\u001b[1;32m-> 2557\u001b[1;33m         \u001b[0mself\u001b[0m\u001b[1;33m.\u001b[0m\u001b[0m_update\u001b[0m\u001b[1;33m(\u001b[0m\u001b[1;33m)\u001b[0m\u001b[1;33m\u001b[0m\u001b[1;33m\u001b[0m\u001b[0m\n\u001b[0m\u001b[0;32m   2558\u001b[0m \u001b[1;33m\u001b[0m\u001b[0m\n\u001b[0;32m   2559\u001b[0m     \u001b[1;32mdef\u001b[0m \u001b[0mreset\u001b[0m\u001b[1;33m(\u001b[0m\u001b[0mself\u001b[0m\u001b[1;33m)\u001b[0m\u001b[1;33m:\u001b[0m\u001b[1;33m\u001b[0m\u001b[1;33m\u001b[0m\u001b[0m\n",
      "\u001b[1;32mD:\\ana\\lib\\turtle.py\u001b[0m in \u001b[0;36m_update\u001b[1;34m(self)\u001b[0m\n\u001b[0;32m   2658\u001b[0m             \u001b[1;32mreturn\u001b[0m\u001b[1;33m\u001b[0m\u001b[1;33m\u001b[0m\u001b[0m\n\u001b[0;32m   2659\u001b[0m         \u001b[1;32melif\u001b[0m \u001b[0mscreen\u001b[0m\u001b[1;33m.\u001b[0m\u001b[0m_tracing\u001b[0m \u001b[1;33m==\u001b[0m \u001b[1;36m1\u001b[0m\u001b[1;33m:\u001b[0m\u001b[1;33m\u001b[0m\u001b[1;33m\u001b[0m\u001b[0m\n\u001b[1;32m-> 2660\u001b[1;33m             \u001b[0mself\u001b[0m\u001b[1;33m.\u001b[0m\u001b[0m_update_data\u001b[0m\u001b[1;33m(\u001b[0m\u001b[1;33m)\u001b[0m\u001b[1;33m\u001b[0m\u001b[1;33m\u001b[0m\u001b[0m\n\u001b[0m\u001b[0;32m   2661\u001b[0m             \u001b[0mself\u001b[0m\u001b[1;33m.\u001b[0m\u001b[0m_drawturtle\u001b[0m\u001b[1;33m(\u001b[0m\u001b[1;33m)\u001b[0m\u001b[1;33m\u001b[0m\u001b[1;33m\u001b[0m\u001b[0m\n\u001b[0;32m   2662\u001b[0m             \u001b[0mscreen\u001b[0m\u001b[1;33m.\u001b[0m\u001b[0m_update\u001b[0m\u001b[1;33m(\u001b[0m\u001b[1;33m)\u001b[0m                  \u001b[1;31m# TurtleScreenBase\u001b[0m\u001b[1;33m\u001b[0m\u001b[1;33m\u001b[0m\u001b[0m\n",
      "\u001b[1;32mD:\\ana\\lib\\turtle.py\u001b[0m in \u001b[0;36m_update_data\u001b[1;34m(self)\u001b[0m\n\u001b[0;32m   2644\u001b[0m \u001b[1;33m\u001b[0m\u001b[0m\n\u001b[0;32m   2645\u001b[0m     \u001b[1;32mdef\u001b[0m \u001b[0m_update_data\u001b[0m\u001b[1;33m(\u001b[0m\u001b[0mself\u001b[0m\u001b[1;33m)\u001b[0m\u001b[1;33m:\u001b[0m\u001b[1;33m\u001b[0m\u001b[1;33m\u001b[0m\u001b[0m\n\u001b[1;32m-> 2646\u001b[1;33m         \u001b[0mself\u001b[0m\u001b[1;33m.\u001b[0m\u001b[0mscreen\u001b[0m\u001b[1;33m.\u001b[0m\u001b[0m_incrementudc\u001b[0m\u001b[1;33m(\u001b[0m\u001b[1;33m)\u001b[0m\u001b[1;33m\u001b[0m\u001b[1;33m\u001b[0m\u001b[0m\n\u001b[0m\u001b[0;32m   2647\u001b[0m         \u001b[1;32mif\u001b[0m \u001b[0mself\u001b[0m\u001b[1;33m.\u001b[0m\u001b[0mscreen\u001b[0m\u001b[1;33m.\u001b[0m\u001b[0m_updatecounter\u001b[0m \u001b[1;33m!=\u001b[0m \u001b[1;36m0\u001b[0m\u001b[1;33m:\u001b[0m\u001b[1;33m\u001b[0m\u001b[1;33m\u001b[0m\u001b[0m\n\u001b[0;32m   2648\u001b[0m             \u001b[1;32mreturn\u001b[0m\u001b[1;33m\u001b[0m\u001b[1;33m\u001b[0m\u001b[0m\n",
      "\u001b[1;32mD:\\ana\\lib\\turtle.py\u001b[0m in \u001b[0;36m_incrementudc\u001b[1;34m(self)\u001b[0m\n\u001b[0;32m   1290\u001b[0m         \u001b[1;32mif\u001b[0m \u001b[1;32mnot\u001b[0m \u001b[0mTurtleScreen\u001b[0m\u001b[1;33m.\u001b[0m\u001b[0m_RUNNING\u001b[0m\u001b[1;33m:\u001b[0m\u001b[1;33m\u001b[0m\u001b[1;33m\u001b[0m\u001b[0m\n\u001b[0;32m   1291\u001b[0m             \u001b[0mTurtleScreen\u001b[0m\u001b[1;33m.\u001b[0m\u001b[0m_RUNNING\u001b[0m \u001b[1;33m=\u001b[0m \u001b[1;32mTrue\u001b[0m\u001b[1;33m\u001b[0m\u001b[1;33m\u001b[0m\u001b[0m\n\u001b[1;32m-> 1292\u001b[1;33m             \u001b[1;32mraise\u001b[0m \u001b[0mTerminator\u001b[0m\u001b[1;33m\u001b[0m\u001b[1;33m\u001b[0m\u001b[0m\n\u001b[0m\u001b[0;32m   1293\u001b[0m         \u001b[1;32mif\u001b[0m \u001b[0mself\u001b[0m\u001b[1;33m.\u001b[0m\u001b[0m_tracing\u001b[0m \u001b[1;33m>\u001b[0m \u001b[1;36m0\u001b[0m\u001b[1;33m:\u001b[0m\u001b[1;33m\u001b[0m\u001b[1;33m\u001b[0m\u001b[0m\n\u001b[0;32m   1294\u001b[0m             \u001b[0mself\u001b[0m\u001b[1;33m.\u001b[0m\u001b[0m_updatecounter\u001b[0m \u001b[1;33m+=\u001b[0m \u001b[1;36m1\u001b[0m\u001b[1;33m\u001b[0m\u001b[1;33m\u001b[0m\u001b[0m\n",
      "\u001b[1;31mTerminator\u001b[0m: "
     ]
    }
   ],
   "source": [
    "import turtle\n",
    "wn = turtle.Screen() #置画布\n",
    "tess = turtle.Turtle() #放主角\n",
    "tess.right(90) #向右转！\n",
    "tess.left(3600) #虚晃10枪\n",
    "tess.right(-90)#向左转！\n",
    "tess.speed(10)#加满油\n",
    "tess.left(3600)#又虚晃10枪\n",
    "tess.speed(0)#特例出现，速度拉满\n",
    "tess.left(3645)#一顿操作猛如虎，归来一看45\n",
    "tess.forward(-100)#向后转！100米跑步前进\n"
   ]
  },
  {
   "cell_type": "code",
   "execution_count": 3,
   "metadata": {},
   "outputs": [],
   "source": [
    "import turtle\n",
    "wn = turtle.Screen()\n",
    "tess = turtle.Turtle()\n",
    "tess.color(\"blue\")\n",
    "tess.left(72)\n",
    "for i in range(5):\n",
    "    tess.forward(80)\n",
    "    tess.left(216)\n",
    "    \n",
    "#tess.hideturtle() #hide the last arrow in the screen\n",
    "tess.showturtle() #shown the pen again\n",
    "\n",
    "wn.mainloop()"
   ]
  },
  {
   "cell_type": "code",
   "execution_count": 10,
   "metadata": {},
   "outputs": [
    {
     "name": "stdout",
     "output_type": "stream",
     "text": [
      "158\n"
     ]
    }
   ],
   "source": [
    "import turtle\n",
    "wn = turtle.Screen()\n",
    "tess = turtle.Turtle()\n",
    "wn.bgcolor(\"lightgreen\")\n",
    "tess.pensize(5)\n",
    "\n",
    "total = int(0)\n",
    "\n",
    "angle = [160, -43, 270, -97, -43, 200, -940, 17, -86]\n",
    "for i in angle:\n",
    "    tess.left(i)\n",
    "    tess.forward(100)\n",
    "    total = total + i\n",
    "b = total % 360\n",
    "print (b)\n",
    "wn.mainloop()\n",
    "\n",
    "\n",
    "\n"
   ]
  },
  {
   "cell_type": "code",
   "execution_count": 9,
   "metadata": {},
   "outputs": [],
   "source": [
    "import turtle\n",
    "wn = turtle.Screen()\n",
    "tess = turtle.Turtle()\n",
    "wn.bgcolor(\"lightgreen\")\n",
    "tess.shape(\"turtle\")\n",
    "tess.color(\"blue\")\n",
    "\n",
    "tess.penup()\n",
    "\n",
    "\n",
    "for i in range(12):\n",
    "    \n",
    "    tess.forward(90)\n",
    "    tess.pendown()\n",
    "    \n",
    "    tess.forward(30)\n",
    "    tess.penup()\n",
    "    tess.forward(20)\n",
    "    tess.stamp()\n",
    "    tess.backward(140)\n",
    "    tess.left(30)\n",
    "    \n",
    "tess.pendown()\n",
    "\n",
    "wn.mainloop()"
   ]
  },
  {
   "cell_type": "code",
   "execution_count": 11,
   "metadata": {},
   "outputs": [
    {
     "name": "stdout",
     "output_type": "stream",
     "text": [
      "<class 'turtle.Turtle'>\n"
     ]
    }
   ],
   "source": [
    "import turtle\n",
    "tess = turtle.Turtle()\n",
    "print(type(tess))"
   ]
  },
  {
   "cell_type": "code",
   "execution_count": 1,
   "metadata": {},
   "outputs": [],
   "source": [
    "import turtle as t\n",
    "t.forward(100)\n",
    "t.left(90)\n",
    "t.forward(100)\n",
    "t.left(45)\n",
    "t.forward(140)"
   ]
  }
 ],
 "metadata": {
  "kernelspec": {
   "display_name": "Python 3",
   "language": "python",
   "name": "python3"
  },
  "language_info": {
   "codemirror_mode": {
    "name": "ipython",
    "version": 3
   },
   "file_extension": ".py",
   "mimetype": "text/x-python",
   "name": "python",
   "nbconvert_exporter": "python",
   "pygments_lexer": "ipython3",
   "version": "3.7.6"
  }
 },
 "nbformat": 4,
 "nbformat_minor": 4
}
