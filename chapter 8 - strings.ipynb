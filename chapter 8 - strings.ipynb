{
 "cells": [
  {
   "cell_type": "code",
   "execution_count": 4,
   "metadata": {},
   "outputs": [
    {
     "data": {
      "text/plain": [
       "'hELLO, WORLD!'"
      ]
     },
     "execution_count": 4,
     "metadata": {},
     "output_type": "execute_result"
    }
   ],
   "source": [
    "ss = \"Hello, world!\"\n",
    "#tt = ss.upper() #大写\n",
    "#tt = ss.lower() #小写\n",
    "#tt = ss.capitalize() #原\n",
    "tt = ss.swapcase() #换大小写\n",
    "tt"
   ]
  },
  {
   "cell_type": "code",
   "execution_count": 11,
   "metadata": {},
   "outputs": [
    {
     "name": "stdout",
     "output_type": "stream",
     "text": [
      "n\n"
     ]
    }
   ],
   "source": [
    "#index\n",
    "fruit = \"banana\"\n",
    "m = fruit[-2]\n",
    "print(m)"
   ]
  },
  {
   "cell_type": "code",
   "execution_count": 9,
   "metadata": {},
   "outputs": [
    {
     "data": {
      "text/plain": [
       "[(0, 'b'), (1, 'a'), (2, 'n'), (3, 'a'), (4, 'n'), (5, 'a')]"
      ]
     },
     "execution_count": 9,
     "metadata": {},
     "output_type": "execute_result"
    }
   ],
   "source": [
    "#visualize the indices\n",
    "fruit = \"banana\"\n",
    "list(enumerate(fruit))"
   ]
  },
  {
   "cell_type": "code",
   "execution_count": 14,
   "metadata": {},
   "outputs": [
    {
     "name": "stdout",
     "output_type": "stream",
     "text": [
      "b\n",
      "a\n",
      "n\n",
      "a\n",
      "n\n",
      "a\n"
     ]
    }
   ],
   "source": [
    "ix = 0\n",
    "fruit = \"banana\"\n",
    "while ix < len(fruit):\n",
    "    letter = fruit[ix]\n",
    "    print(letter)\n",
    "    ix += 1"
   ]
  },
  {
   "cell_type": "code",
   "execution_count": 15,
   "metadata": {},
   "outputs": [
    {
     "name": "stdout",
     "output_type": "stream",
     "text": [
      "b\n",
      "a\n",
      "n\n",
      "a\n",
      "n\n",
      "a\n"
     ]
    }
   ],
   "source": [
    "fruit = \"banana\"\n",
    "for c in fruit:\n",
    "    print(c)"
   ]
  },
  {
   "cell_type": "code",
   "execution_count": 18,
   "metadata": {},
   "outputs": [
    {
     "name": "stdout",
     "output_type": "stream",
     "text": [
      "Jack\n",
      "Kack\n",
      "Lack\n",
      "Mack\n",
      "Nack\n",
      "Ouack\n",
      "Pack\n",
      "Quack\n"
     ]
    }
   ],
   "source": [
    "prefixes = \"JKLMNOPQ\"\n",
    "suffix1 = \"ack\"\n",
    "suffix2 = \"uack\"\n",
    "\n",
    "for p in prefixes:\n",
    "    if p in [\"J\",\"K\",\"L\",\"M\",\"N\",\"P\"]:\n",
    "        print(p + suffix1)\n",
    "    else:\n",
    "        print(p + suffix2)\n",
    "    "
   ]
  },
  {
   "cell_type": "code",
   "execution_count": 22,
   "metadata": {},
   "outputs": [
    {
     "data": {
      "text/plain": [
       "'banana'"
      ]
     },
     "execution_count": 22,
     "metadata": {},
     "output_type": "execute_result"
    }
   ],
   "source": [
    "fruit = \"banana\"\n",
    "#fruit[:3]\n",
    "#fruit[3:]\n",
    "fruit[:]"
   ]
  },
  {
   "cell_type": "code",
   "execution_count": 23,
   "metadata": {},
   "outputs": [
    {
     "ename": "NameError",
     "evalue": "name 'word' is not defined",
     "output_type": "error",
     "traceback": [
      "\u001b[1;31m---------------------------------------------------------------------------\u001b[0m",
      "\u001b[1;31mNameError\u001b[0m                                 Traceback (most recent call last)",
      "\u001b[1;32m<ipython-input-23-62764851c5a2>\u001b[0m in \u001b[0;36m<module>\u001b[1;34m\u001b[0m\n\u001b[1;32m----> 1\u001b[1;33m \u001b[1;32mif\u001b[0m \u001b[0mword\u001b[0m \u001b[1;33m<\u001b[0m \u001b[1;34m\"banana\"\u001b[0m\u001b[1;33m:\u001b[0m\u001b[1;33m\u001b[0m\u001b[1;33m\u001b[0m\u001b[0m\n\u001b[0m\u001b[0;32m      2\u001b[0m     \u001b[0mprint\u001b[0m\u001b[1;33m(\u001b[0m\u001b[1;34m\"your word,\"\u001b[0m \u001b[1;33m+\u001b[0m \u001b[0mword\u001b[0m \u001b[1;33m+\u001b[0m \u001b[1;34m\",comes before banana.\"\u001b[0m\u001b[1;33m)\u001b[0m\u001b[1;33m\u001b[0m\u001b[1;33m\u001b[0m\u001b[0m\n\u001b[0;32m      3\u001b[0m \u001b[1;32melif\u001b[0m \u001b[0mword\u001b[0m \u001b[1;33m>\u001b[0m \u001b[1;34m\"banana\"\u001b[0m\u001b[1;33m:\u001b[0m\u001b[1;33m\u001b[0m\u001b[1;33m\u001b[0m\u001b[0m\n\u001b[0;32m      4\u001b[0m     \u001b[0mprint\u001b[0m\u001b[1;33m(\u001b[0m\u001b[1;34m\"your word,\"\u001b[0m \u001b[1;33m+\u001b[0m \u001b[0mword\u001b[0m \u001b[1;33m+\u001b[0m \u001b[1;34m\",comes after banana.\"\u001b[0m\u001b[1;33m)\u001b[0m\u001b[1;33m\u001b[0m\u001b[1;33m\u001b[0m\u001b[0m\n\u001b[0;32m      5\u001b[0m \u001b[1;32melse\u001b[0m\u001b[1;33m:\u001b[0m\u001b[1;33m\u001b[0m\u001b[1;33m\u001b[0m\u001b[0m\n",
      "\u001b[1;31mNameError\u001b[0m: name 'word' is not defined"
     ]
    }
   ],
   "source": [
    "if word < \"banana\":\n",
    "    print(\"your word,\" + word + \",comes before banana.\")\n",
    "elif word > \"banana\":\n",
    "    print(\"your word,\" + word + \",comes after banana.\")\n",
    "else:\n",
    "     print(\"yes, we have no bananas!.\")"
   ]
  },
  {
   "cell_type": "code",
   "execution_count": 26,
   "metadata": {},
   "outputs": [
    {
     "name": "stdout",
     "output_type": "stream",
     "text": [
      "Jello, world!\n"
     ]
    }
   ],
   "source": [
    "greeting = \"Hello, world!\"\n",
    "new_greeting= \"J\" + greeting[1:]\n",
    "print(new_greeting)"
   ]
  },
  {
   "cell_type": "code",
   "execution_count": 29,
   "metadata": {},
   "outputs": [
    {
     "name": "stdout",
     "output_type": "stream",
     "text": [
      "Test at line 20 ok.\n",
      "Test at line 21 ok.\n"
     ]
    }
   ],
   "source": [
    "#remove all the vowels from a string\n",
    "import sys\n",
    "def remove_vowels(s):\n",
    "    vowels = \"aeiouAEIOU\"\n",
    "    s_sans_vowels = \"\"\n",
    "    for x in s:\n",
    "        if x not in vowels:\n",
    "            s_sans_vowels += x\n",
    "    return s_sans_vowels\n",
    "\n",
    "def test(did_pass):\n",
    "    linenum = sys._getframe(1).f_lineno #get the caller's line number\n",
    "    if did_pass:\n",
    "        msg = \"Test at line {0} ok.\".format(linenum)\n",
    "    else:\n",
    "        msg = (\"Test at line {0} FAILED.\".format(linenum))\n",
    "    print(msg)\n",
    "\n",
    "def test_suite():\n",
    "    test(remove_vowels(\"compsci\") == \"cmpsc\")\n",
    "    test(remove_vowels(\"aAbEefIijOopUus\") == \"bfjps\")\n",
    "test_suite()"
   ]
  },
  {
   "cell_type": "code",
   "execution_count": 30,
   "metadata": {},
   "outputs": [
    {
     "name": "stdout",
     "output_type": "stream",
     "text": [
      "Test at line 19 ok.\n",
      "Test at line 20 ok.\n",
      "Test at line 21 ok.\n",
      "Test at line 22 ok.\n"
     ]
    }
   ],
   "source": [
    "#find\n",
    "import sys\n",
    "def find(strng, ch):\n",
    "    ix = 0\n",
    "    while ix < len(strng):\n",
    "        if strng[ix] == ch:\n",
    "            return ix\n",
    "        ix += 1\n",
    "    return -1\n",
    "\n",
    "def test(did_pass):\n",
    "    linenum = sys._getframe(1).f_lineno #get the caller's line number\n",
    "    if did_pass:\n",
    "        msg = \"Test at line {0} ok.\".format(linenum)\n",
    "    else:\n",
    "        msg = (\"Test at line {0} FAILED.\".format(linenum))\n",
    "    print(msg)\n",
    "\n",
    "def test_suite():\n",
    "    test(find(\"Compsci\", \"p\") == 3)\n",
    "    test(find(\"Compsci\", \"C\") == 0)\n",
    "    test(find(\"Compsci\", \"i\") == 6)\n",
    "    test(find(\"Compsci\", \"x\") == -1)\n",
    "\n",
    "test_suite()"
   ]
  },
  {
   "cell_type": "code",
   "execution_count": 31,
   "metadata": {},
   "outputs": [
    {
     "name": "stdout",
     "output_type": "stream",
     "text": [
      "Test at line 18 ok.\n"
     ]
    }
   ],
   "source": [
    "#counting digits\n",
    "import sys\n",
    "def count_a(text):\n",
    "    count = 0\n",
    "    for c in text:\n",
    "        if c == \"a\":\n",
    "            count += 1\n",
    "    return(count)\n",
    "\n",
    "def test(did_pass):\n",
    "    linenum = sys._getframe(1).f_lineno #get the caller's line number\n",
    "    if did_pass:\n",
    "        msg = \"Test at line {0} ok.\".format(linenum)\n",
    "    else:\n",
    "        msg = (\"Test at line {0} FAILED.\".format(linenum))\n",
    "    print(msg)\n",
    "\n",
    "def test_suite():\n",
    "    test(count_a(\"banana\") == 3)\n",
    "test_suite()"
   ]
  },
  {
   "cell_type": "code",
   "execution_count": null,
   "metadata": {},
   "outputs": [],
   "source": [
    "#test 代码模板\n",
    "import sys\n",
    "def \n",
    "\n",
    "def test(did_pass):\n",
    "    linenum = sys._getframe(1).f_lineno #get the caller's line number\n",
    "    if did_pass:\n",
    "        msg = \"Test at line {0} ok.\".format(linenum)\n",
    "    else:\n",
    "        msg = (\"Test at line {0} FAILED.\".format(linenum))\n",
    "    print(msg)\n",
    "\n",
    "def test_suite():\n",
    "    t\n",
    "test_suite()"
   ]
  },
  {
   "cell_type": "code",
   "execution_count": 33,
   "metadata": {},
   "outputs": [
    {
     "name": "stdout",
     "output_type": "stream",
     "text": [
      "Test at line 19 ok.\n"
     ]
    }
   ],
   "source": [
    "import sys\n",
    "def find2(strng, ch, start):\n",
    "    ix = start\n",
    "    while ix < len(strng):\n",
    "        if strng[ix] == ch:\n",
    "            return ix\n",
    "        ix += 1\n",
    "    return -1\n",
    "\n",
    "def test(did_pass):\n",
    "    linenum = sys._getframe(1).f_lineno #get the caller's line number\n",
    "    if did_pass:\n",
    "        msg = \"Test at line {0} ok.\".format(linenum)\n",
    "    else:\n",
    "        msg = (\"Test at line {0} FAILED.\".format(linenum))\n",
    "    print(msg)\n",
    "\n",
    "def test_suite():\n",
    "    test(find2(\"banana\", \"a\", 2) == 3)\n",
    "\n",
    "test_suite()"
   ]
  },
  {
   "cell_type": "code",
   "execution_count": 36,
   "metadata": {},
   "outputs": [
    {
     "name": "stdout",
     "output_type": "stream",
     "text": [
      "Test at line 31 ok.\n",
      "Test at line 32 ok.\n",
      "Test at line 33 ok.\n"
     ]
    },
    {
     "ename": "TypeError",
     "evalue": "find() takes from 2 to 3 positional arguments but 4 were given",
     "output_type": "error",
     "traceback": [
      "\u001b[1;31m---------------------------------------------------------------------------\u001b[0m",
      "\u001b[1;31mTypeError\u001b[0m                                 Traceback (most recent call last)",
      "\u001b[1;32m<ipython-input-36-d2d047fe4a35>\u001b[0m in \u001b[0;36m<module>\u001b[1;34m\u001b[0m\n\u001b[0;32m     34\u001b[0m     \u001b[0mtest\u001b[0m\u001b[1;33m(\u001b[0m\u001b[0mfind\u001b[0m\u001b[1;33m(\u001b[0m\u001b[0mss\u001b[0m\u001b[1;33m,\u001b[0m \u001b[1;34m\"s\"\u001b[0m\u001b[1;33m,\u001b[0m \u001b[1;36m8\u001b[0m\u001b[1;33m,\u001b[0m \u001b[1;36m13\u001b[0m\u001b[1;33m)\u001b[0m \u001b[1;33m==\u001b[0m \u001b[1;33m-\u001b[0m\u001b[1;36m1\u001b[0m\u001b[1;33m)\u001b[0m\u001b[1;33m\u001b[0m\u001b[1;33m\u001b[0m\u001b[0m\n\u001b[0;32m     35\u001b[0m     \u001b[0mtest\u001b[0m\u001b[1;33m(\u001b[0m\u001b[0mfind\u001b[0m\u001b[1;33m(\u001b[0m\u001b[0mss\u001b[0m\u001b[1;33m,\u001b[0m \u001b[1;34m\".\"\u001b[0m\u001b[1;33m)\u001b[0m \u001b[1;33m==\u001b[0m \u001b[0mlen\u001b[0m\u001b[1;33m(\u001b[0m\u001b[0mss\u001b[0m\u001b[1;33m)\u001b[0m\u001b[1;33m-\u001b[0m\u001b[1;36m1\u001b[0m\u001b[1;33m)\u001b[0m\u001b[1;33m\u001b[0m\u001b[1;33m\u001b[0m\u001b[0m\n\u001b[1;32m---> 36\u001b[1;33m \u001b[0mtest_suite\u001b[0m\u001b[1;33m(\u001b[0m\u001b[1;33m)\u001b[0m\u001b[1;33m\u001b[0m\u001b[1;33m\u001b[0m\u001b[0m\n\u001b[0m",
      "\u001b[1;32m<ipython-input-36-d2d047fe4a35>\u001b[0m in \u001b[0;36mtest_suite\u001b[1;34m()\u001b[0m\n\u001b[0;32m     32\u001b[0m     \u001b[0mtest\u001b[0m\u001b[1;33m(\u001b[0m\u001b[0mfind\u001b[0m\u001b[1;33m(\u001b[0m\u001b[0mss\u001b[0m\u001b[1;33m,\u001b[0m \u001b[1;34m\"s\"\u001b[0m\u001b[1;33m,\u001b[0m \u001b[1;36m7\u001b[0m\u001b[1;33m)\u001b[0m \u001b[1;33m==\u001b[0m \u001b[1;36m7\u001b[0m\u001b[1;33m)\u001b[0m\u001b[1;33m\u001b[0m\u001b[1;33m\u001b[0m\u001b[0m\n\u001b[0;32m     33\u001b[0m     \u001b[0mtest\u001b[0m\u001b[1;33m(\u001b[0m\u001b[0mfind\u001b[0m\u001b[1;33m(\u001b[0m\u001b[0mss\u001b[0m\u001b[1;33m,\u001b[0m \u001b[1;34m\"s\"\u001b[0m\u001b[1;33m,\u001b[0m \u001b[1;36m8\u001b[0m\u001b[1;33m)\u001b[0m \u001b[1;33m==\u001b[0m \u001b[1;36m13\u001b[0m\u001b[1;33m)\u001b[0m\u001b[1;33m\u001b[0m\u001b[1;33m\u001b[0m\u001b[0m\n\u001b[1;32m---> 34\u001b[1;33m     \u001b[0mtest\u001b[0m\u001b[1;33m(\u001b[0m\u001b[0mfind\u001b[0m\u001b[1;33m(\u001b[0m\u001b[0mss\u001b[0m\u001b[1;33m,\u001b[0m \u001b[1;34m\"s\"\u001b[0m\u001b[1;33m,\u001b[0m \u001b[1;36m8\u001b[0m\u001b[1;33m,\u001b[0m \u001b[1;36m13\u001b[0m\u001b[1;33m)\u001b[0m \u001b[1;33m==\u001b[0m \u001b[1;33m-\u001b[0m\u001b[1;36m1\u001b[0m\u001b[1;33m)\u001b[0m\u001b[1;33m\u001b[0m\u001b[1;33m\u001b[0m\u001b[0m\n\u001b[0m\u001b[0;32m     35\u001b[0m     \u001b[0mtest\u001b[0m\u001b[1;33m(\u001b[0m\u001b[0mfind\u001b[0m\u001b[1;33m(\u001b[0m\u001b[0mss\u001b[0m\u001b[1;33m,\u001b[0m \u001b[1;34m\".\"\u001b[0m\u001b[1;33m)\u001b[0m \u001b[1;33m==\u001b[0m \u001b[0mlen\u001b[0m\u001b[1;33m(\u001b[0m\u001b[0mss\u001b[0m\u001b[1;33m)\u001b[0m\u001b[1;33m-\u001b[0m\u001b[1;36m1\u001b[0m\u001b[1;33m)\u001b[0m\u001b[1;33m\u001b[0m\u001b[1;33m\u001b[0m\u001b[0m\n\u001b[0;32m     36\u001b[0m \u001b[0mtest_suite\u001b[0m\u001b[1;33m(\u001b[0m\u001b[1;33m)\u001b[0m\u001b[1;33m\u001b[0m\u001b[1;33m\u001b[0m\u001b[0m\n",
      "\u001b[1;31mTypeError\u001b[0m: find() takes from 2 to 3 positional arguments but 4 were given"
     ]
    }
   ],
   "source": [
    "import sys\n",
    "ss = \"Python strings have some interesting methods.\"\n",
    "\n",
    "def find(strng, ch, start = 0):\n",
    "    ix = start\n",
    "    while ix < len(strng):\n",
    "        if strng[ix] == ch:\n",
    "            return ix\n",
    "        ix += 1\n",
    "    return -1\n",
    "\n",
    "def test(did_pass):\n",
    "    linenum = sys._getframe(1).f_lineno #get the caller's line number\n",
    "    if did_pass:\n",
    "        msg = \"Test at line {0} ok.\".format(linenum)\n",
    "    else:\n",
    "        msg = (\"Test at line {0} FAILED.\".format(linenum))\n",
    "    print(msg)\n",
    "\n",
    "def test_suite():\n",
    "    test(find(ss, \"s\") == 7)\n",
    "    test(find(ss, \"s\", 7) == 7)\n",
    "    test(find(ss, \"s\", 8) == 13)\n",
    "    test(find(ss, \"s\", 8, 13) == -1)\n",
    "    test(find(ss, \".\") == len(ss)-1)\n",
    "test_suite()"
   ]
  },
  {
   "cell_type": "code",
   "execution_count": null,
   "metadata": {},
   "outputs": [],
   "source": [
    "def find(strng, ch, start = 0, end = None):\n",
    "    ix = start\n",
    "    if end is None:\n",
    "        end = len(strng)\n",
    "    while ix < end:\n",
    "        if strng[ix] == ch:\n",
    "            return ix\n",
    "        ix += 1\n",
    "    return -1"
   ]
  },
  {
   "cell_type": "code",
   "execution_count": 1,
   "metadata": {},
   "outputs": [
    {
     "data": {
      "text/plain": [
       "2"
      ]
     },
     "execution_count": 1,
     "metadata": {},
     "output_type": "execute_result"
    }
   ],
   "source": [
    "#built-in find function\n",
    "\"banana\".find(\"nan\")"
   ]
  },
  {
   "cell_type": "code",
   "execution_count": 2,
   "metadata": {},
   "outputs": [
    {
     "data": {
      "text/plain": [
       "4"
      ]
     },
     "execution_count": 2,
     "metadata": {},
     "output_type": "execute_result"
    }
   ],
   "source": [
    "\"banana\".find(\"na\",3)"
   ]
  },
  {
   "cell_type": "code",
   "execution_count": 3,
   "metadata": {},
   "outputs": [
    {
     "data": {
      "text/plain": [
       "['Well', 'I', 'never', 'did', 'said', 'Alice']"
      ]
     },
     "execution_count": 3,
     "metadata": {},
     "output_type": "execute_result"
    }
   ],
   "source": [
    "#split method\n",
    "ss = \"Well I never did said Alice\"\n",
    "wds = ss.split()\n",
    "wds"
   ]
  },
  {
   "cell_type": "code",
   "execution_count": 4,
   "metadata": {},
   "outputs": [],
   "source": [
    "punctuation = \"!\\\"#$%&’()*+,-./:;<=>?@[\\\\]^_‘{|}~\"\n",
    "\n",
    "def remove_punctuation(s):\n",
    "    s_sans_punct = \"\"\n",
    "    for letter in s:\n",
    "        if letter not in punctuation:\n",
    "            s_sans_punct += letter\n",
    "    return s_sans_punct"
   ]
  },
  {
   "cell_type": "code",
   "execution_count": 8,
   "metadata": {},
   "outputs": [
    {
     "name": "stdout",
     "output_type": "stream",
     "text": [
      "Test at line 19 ok.\n",
      "Test at line 20 ok.\n"
     ]
    }
   ],
   "source": [
    "import string\n",
    "import sys\n",
    "def remove_punctuation(s):\n",
    "    s_without_punct = \"\"\n",
    "    for letter in s:\n",
    "        if letter not in string.punctuation:\n",
    "            s_without_punct += letter\n",
    "    return s_without_punct\n",
    "\n",
    "def test(did_pass):\n",
    "    linenum = sys._getframe(1).f_lineno #get the caller's line number\n",
    "    if did_pass:\n",
    "        msg = \"Test at line {0} ok.\".format(linenum)\n",
    "    else:\n",
    "        msg = (\"Test at line {0} FAILED.\".format(linenum))\n",
    "    print(msg)\n",
    "\n",
    "def test_suite():\n",
    "    test(remove_punctuation('\"Well, I never did!\", said Alice.') == \"Well I never did said Alice\")\n",
    "    test(remove_punctuation(\"Are you very, very, sure?\") == \"Are you very very sure\")\n",
    "test_suite()"
   ]
  },
  {
   "cell_type": "code",
   "execution_count": 9,
   "metadata": {},
   "outputs": [
    {
     "data": {
      "text/plain": [
       "['Pythons',\n",
       " 'are',\n",
       " 'constrictors',\n",
       " 'which',\n",
       " 'means',\n",
       " 'that',\n",
       " 'they',\n",
       " 'will',\n",
       " 'squeeze',\n",
       " 'the',\n",
       " 'life',\n",
       " 'out',\n",
       " 'of',\n",
       " 'their',\n",
       " 'prey',\n",
       " 'They',\n",
       " 'coil',\n",
       " 'themselves',\n",
       " 'around',\n",
       " 'their',\n",
       " 'prey',\n",
       " 'and',\n",
       " 'with',\n",
       " 'each',\n",
       " 'breath',\n",
       " 'the',\n",
       " 'creature',\n",
       " 'takes',\n",
       " 'the',\n",
       " 'snake',\n",
       " 'will',\n",
       " 'squeeze',\n",
       " 'a',\n",
       " 'little',\n",
       " 'tighter',\n",
       " 'until',\n",
       " 'they',\n",
       " 'stop',\n",
       " 'breathing',\n",
       " 'completely',\n",
       " 'Once',\n",
       " 'the',\n",
       " 'heart',\n",
       " 'stops',\n",
       " 'the',\n",
       " 'prey',\n",
       " 'is',\n",
       " 'swallowed',\n",
       " 'whole',\n",
       " 'The',\n",
       " 'entire',\n",
       " 'animal',\n",
       " 'is',\n",
       " 'digested',\n",
       " 'in',\n",
       " 'the',\n",
       " 'snake’s',\n",
       " 'stomach',\n",
       " 'except',\n",
       " 'for',\n",
       " 'fur',\n",
       " 'or',\n",
       " 'feathers',\n",
       " 'What',\n",
       " 'do',\n",
       " 'you',\n",
       " 'think',\n",
       " 'happens',\n",
       " 'to',\n",
       " 'the',\n",
       " 'fur',\n",
       " 'feathers',\n",
       " 'beaks',\n",
       " 'and',\n",
       " 'eggshells',\n",
       " 'The',\n",
       " '’extra',\n",
       " 'stuff’',\n",
       " 'gets',\n",
       " 'passed',\n",
       " 'out',\n",
       " 'as',\n",
       " 'you',\n",
       " 'guessed',\n",
       " 'it',\n",
       " 'snake',\n",
       " 'POOP']"
      ]
     },
     "execution_count": 9,
     "metadata": {},
     "output_type": "execute_result"
    }
   ],
   "source": [
    "my_story = \"\"\"Pythons are constrictors, which means that they \n",
    " will 'squeeze' the life out of their prey. \n",
    " They coil themselves around their prey and \n",
    " with each breath the creature takes the snake \n",
    " will squeeze a little tighter\n",
    " until they stop breathing completely. Once the heart stops the prey\n",
    " is swallowed whole. The entire animal is digested in the snake’s\n",
    " stomach except for fur or feathers. What do you think happens to the fur,\n",
    " feathers, beaks, and eggshells? The ’extra stuff’ gets passed out as ---\n",
    " you guessed it --- snake POOP! \"\"\"\n",
    "wds = remove_punctuation(my_story).split()\n",
    "wds\n"
   ]
  },
  {
   "cell_type": "code",
   "execution_count": 10,
   "metadata": {},
   "outputs": [
    {
     "name": "stdout",
     "output_type": "stream",
     "text": [
      "His name is Arthur!\n",
      "I am Alice and I am 10 years old.\n",
      "2 ** 10 = 1024 and 4 * 5 = 20.000000\n"
     ]
    }
   ],
   "source": [
    "s1 = \"His name is {0}!\".format(\"Arthur\")\n",
    "print(s1)\n",
    "\n",
    "name = \"Alice\"\n",
    "age = 10\n",
    "s2 = \"I am {1} and I am {0} years old.\".format(age, name)\n",
    "print(s2)\n",
    "\n",
    "n1 = 4\n",
    "n2 = 5\n",
    "s3 = \"2 ** 10 = {0} and {1} * {2} = {3:f}\".format(2**10, n1, n2, n1 * n2)\n",
    "print(s3)"
   ]
  },
  {
   "cell_type": "code",
   "execution_count": 13,
   "metadata": {},
   "outputs": [
    {
     "name": "stdout",
     "output_type": "stream",
     "text": [
      "Pi to three decimal places is 3.142\n",
      "123456789 123456789 123456789 123456789 123456789 123456789\n",
      "|||Paris          |||    Whitney    |||         Hilton|||Born in 1981|||\n",
      "The decimal value 123456 converts to hex value 1e240\n"
     ]
    }
   ],
   "source": [
    "n1 = \"Paris\"\n",
    "n2 = \"Whitney\"\n",
    "n3 = \"Hilton\"\n",
    "\n",
    "print(\"Pi to three decimal places is {0:.3f}\".format(3.1415926))\n",
    "print(\"123456789 123456789 123456789 123456789 123456789 123456789\")\n",
    "#居左，居中，居右\n",
    "print(\"|||{0:<15}|||{1:^15}|||{2:>15}|||Born in {3}|||\".format(n1, n2, n3,1981))\n",
    "#转换16进制\n",
    "print(\"The decimal value {0} converts to hex value {0:x}\".format(123456))"
   ]
  },
  {
   "cell_type": "code",
   "execution_count": 14,
   "metadata": {},
   "outputs": [
    {
     "name": "stdout",
     "output_type": "stream",
     "text": [
      "\n",
      " Dear Paris Hilton.\n",
      " Paris, I have an interesting money-making proposition for you!\n",
      " If you deposit $10 million into my bank account, I can\n",
      " double your money ...\n",
      " \n",
      "\n",
      " Dear Bill Gates.\n",
      " Bill, I have an interesting money-making proposition for you!\n",
      " If you deposit $10 million into my bank account, I can\n",
      " double your money ...\n",
      " \n"
     ]
    }
   ],
   "source": [
    "letter = \"\"\"\n",
    " Dear {0} {2}.\n",
    " {0}, I have an interesting money-making proposition for you!\n",
    " If you deposit $10 million into my bank account, I can\n",
    " double your money ...\n",
    " \"\"\"\n",
    "\n",
    "print(letter.format(\"Paris\", \"Whitney\", \"Hilton\"))\n",
    "print(letter.format(\"Bill\", \"Henry\", \"Gates\"))"
   ]
  },
  {
   "cell_type": "code",
   "execution_count": 15,
   "metadata": {},
   "outputs": [
    {
     "name": "stdout",
     "output_type": "stream",
     "text": [
      "i\ti**2\ti**3\ti**5\ti**10\ti**20\n",
      "1 \t 1 \t 1 \t 1 \t 1 \t 1\n",
      "2 \t 4 \t 8 \t 32 \t 1024 \t 1048576\n",
      "3 \t 9 \t 27 \t 243 \t 59049 \t 3486784401\n",
      "4 \t 16 \t 64 \t 1024 \t 1048576 \t 1099511627776\n",
      "5 \t 25 \t 125 \t 3125 \t 9765625 \t 95367431640625\n",
      "6 \t 36 \t 216 \t 7776 \t 60466176 \t 3656158440062976\n",
      "7 \t 49 \t 343 \t 16807 \t 282475249 \t 79792266297612001\n",
      "8 \t 64 \t 512 \t 32768 \t 1073741824 \t 1152921504606846976\n",
      "9 \t 81 \t 729 \t 59049 \t 3486784401 \t 12157665459056928801\n",
      "10 \t 100 \t 1000 \t 100000 \t 10000000000 \t 100000000000000000000\n"
     ]
    }
   ],
   "source": [
    "print(\"i\\ti**2\\ti**3\\ti**5\\ti**10\\ti**20\")\n",
    "for i in range(1, 11):\n",
    "    print(i, \"\\t\", i**2, \"\\t\", i**3, \"\\t\", i**5, \"\\t\", i**10, \"\\t\", i**20)"
   ]
  },
  {
   "cell_type": "code",
   "execution_count": 16,
   "metadata": {},
   "outputs": [
    {
     "name": "stdout",
     "output_type": "stream",
     "text": [
      "   i  i**2  i**3    i**5        i**10                   i**20\n",
      "   1     1     1       1            1                       1\n",
      "   2     4     8      32         1024                 1048576\n",
      "   3     9    27     243        59049              3486784401\n",
      "   4    16    64    1024      1048576           1099511627776\n",
      "   5    25   125    3125      9765625          95367431640625\n",
      "   6    36   216    7776     60466176        3656158440062976\n",
      "   7    49   343   16807    282475249       79792266297612001\n",
      "   8    64   512   32768   1073741824     1152921504606846976\n",
      "   9    81   729   59049   3486784401    12157665459056928801\n",
      "  10   100  1000  100000  10000000000   100000000000000000000\n"
     ]
    }
   ],
   "source": [
    "layout = \"{0:>4}{1:>6}{2:>6}{3:>8}{4:>13}{5:>24}\"\n",
    "print(layout.format(\"i\", \"i**2\",\"i**3\",\"i**5\",\"i**10\",\"i**20\"))\n",
    "for i in range(1,11):\n",
    "    print(layout.format(i, i**2, i**3, i**5, i**10, i**20))"
   ]
  },
  {
   "cell_type": "code",
   "execution_count": 17,
   "metadata": {},
   "outputs": [
    {
     "data": {
      "text/plain": [
       "'y'"
      ]
     },
     "execution_count": 17,
     "metadata": {},
     "output_type": "execute_result"
    }
   ],
   "source": [
    "#exercise 1\n",
    "\"Python\"[1]"
   ]
  },
  {
   "cell_type": "code",
   "execution_count": 18,
   "metadata": {},
   "outputs": [
    {
     "data": {
      "text/plain": [
       "'g'"
      ]
     },
     "execution_count": 18,
     "metadata": {},
     "output_type": "execute_result"
    }
   ],
   "source": [
    "\"Strings are sequences of characters.\"[5]"
   ]
  },
  {
   "cell_type": "code",
   "execution_count": 19,
   "metadata": {},
   "outputs": [
    {
     "data": {
      "text/plain": [
       "9"
      ]
     },
     "execution_count": 19,
     "metadata": {},
     "output_type": "execute_result"
    }
   ],
   "source": [
    "len(\"wonderful\")"
   ]
  },
  {
   "cell_type": "code",
   "execution_count": 20,
   "metadata": {},
   "outputs": [
    {
     "data": {
      "text/plain": [
       "'Myst'"
      ]
     },
     "execution_count": 20,
     "metadata": {},
     "output_type": "execute_result"
    }
   ],
   "source": [
    "\"Mystery\"[:4]"
   ]
  },
  {
   "cell_type": "code",
   "execution_count": 21,
   "metadata": {},
   "outputs": [
    {
     "data": {
      "text/plain": [
       "True"
      ]
     },
     "execution_count": 21,
     "metadata": {},
     "output_type": "execute_result"
    }
   ],
   "source": [
    "\"p\" in \"Pineapple\""
   ]
  },
  {
   "cell_type": "code",
   "execution_count": 22,
   "metadata": {},
   "outputs": [
    {
     "data": {
      "text/plain": [
       "True"
      ]
     },
     "execution_count": 22,
     "metadata": {},
     "output_type": "execute_result"
    }
   ],
   "source": [
    "\"apple\" in \"Pineapple\""
   ]
  },
  {
   "cell_type": "code",
   "execution_count": 23,
   "metadata": {},
   "outputs": [
    {
     "data": {
      "text/plain": [
       "True"
      ]
     },
     "execution_count": 23,
     "metadata": {},
     "output_type": "execute_result"
    }
   ],
   "source": [
    "\"pear\" not in \"Pineapple\""
   ]
  },
  {
   "cell_type": "code",
   "execution_count": 24,
   "metadata": {},
   "outputs": [
    {
     "data": {
      "text/plain": [
       "False"
      ]
     },
     "execution_count": 24,
     "metadata": {},
     "output_type": "execute_result"
    }
   ],
   "source": [
    "\"apple\" > \"pineapple\""
   ]
  },
  {
   "cell_type": "code",
   "execution_count": 25,
   "metadata": {},
   "outputs": [
    {
     "data": {
      "text/plain": [
       "False"
      ]
     },
     "execution_count": 25,
     "metadata": {},
     "output_type": "execute_result"
    }
   ],
   "source": [
    "\"pineapple\" < \"Peach\""
   ]
  },
  {
   "cell_type": "code",
   "execution_count": 31,
   "metadata": {},
   "outputs": [
    {
     "name": "stdout",
     "output_type": "stream",
     "text": [
      "3\n"
     ]
    }
   ],
   "source": [
    "#3 encapsulate\n",
    "fruit = \"banana\"\n",
    "count = 0\n",
    "for char in fruit:\n",
    "    if char == \"a\":\n",
    "        count += 1\n",
    "print(count)"
   ]
  },
  {
   "cell_type": "code",
   "execution_count": 37,
   "metadata": {},
   "outputs": [
    {
     "data": {
      "text/plain": [
       "2"
      ]
     },
     "execution_count": 37,
     "metadata": {},
     "output_type": "execute_result"
    }
   ],
   "source": [
    "def count_letters(a, b):\n",
    "    fruit = a\n",
    "    count = 0\n",
    "    for char in fruit:\n",
    "        if char == b:\n",
    "            count += 1\n",
    "    return count\n",
    "count_letters(\"banana\", \"a\")\n",
    "count_letters(\"banana\", \"n\")"
   ]
  },
  {
   "cell_type": "code",
   "execution_count": 40,
   "metadata": {},
   "outputs": [
    {
     "data": {
      "text/plain": [
       "2"
      ]
     },
     "execution_count": 40,
     "metadata": {},
     "output_type": "execute_result"
    }
   ],
   "source": [
    "#4 find method\n",
    "def count_letters2(a, b):\n",
    "    count = 0\n",
    "    for i in range(len(a)):\n",
    "        if a.find(b, i, (i + 1)) == i:\n",
    "            count += 1\n",
    "    return count\n",
    "count_letters2(\"banana\", \"n\")"
   ]
  },
  {
   "cell_type": "code",
   "execution_count": 46,
   "metadata": {},
   "outputs": [
    {
     "name": "stdout",
     "output_type": "stream",
     "text": [
      "Your text contains 87 words, of which 50 (57.5%) contain an 'e'.\n"
     ]
    }
   ],
   "source": [
    "#5\n",
    "import string\n",
    "letters = \"\"\"Pythons are constrictors, which means that they \n",
    " will 'squeeze' the life out of their prey. \n",
    " They coil themselves around their prey and \n",
    " with each breath the creature takes the snake \n",
    " will squeeze a little tighter\n",
    " until they stop breathing completely. Once the heart stops the prey\n",
    " is swallowed whole. The entire animal is digested in the snake’s\n",
    " stomach except for fur or feathers. What do you think happens to the fur,\n",
    " feathers, beaks, and eggshells? The ’extra stuff’ gets passed out as ---\n",
    " you guessed it --- snake POOP! \"\"\"\n",
    "def remove_punctuation(s):\n",
    "    s_without_punct = \"\"\n",
    "    for letter in s:\n",
    "        if letter not in string.punctuation:\n",
    "            s_without_punct += letter\n",
    "    return s_without_punct\n",
    "\n",
    "a = remove_punctuation(letters).split()\n",
    "count = 0\n",
    "for i in a:\n",
    "    if count_letters2(i, \"e\") > 0:\n",
    "        count += 1\n",
    "\n",
    "c = 100 * (count / len(a))\n",
    "print(\"Your text contains {0} words, of which {1} ({2:.1f}%) contain an 'e'.\".format(len(a),count, c))"
   ]
  },
  {
   "cell_type": "code",
   "execution_count": 47,
   "metadata": {},
   "outputs": [
    {
     "name": "stdout",
     "output_type": "stream",
     "text": [
      "          1   2   3   4   5   6   7   8   9  10  11  12\n",
      "    :--------------------------------------------------\n",
      "   1:     1   2   3   4   5   6   7   8   9  10  11  12\n",
      "   2:     2   4   6   8  10  12  14  16  18  20  22  24\n",
      "   3:     3   6   9  12  15  18  21  24  27  30  33  36\n",
      "   4:     4   8  12  16  20  24  28  32  36  40  44  48\n",
      "   5:     5  10  15  20  25  30  35  40  45  50  55  60\n",
      "   6:     6  12  18  24  30  36  42  48  54  60  66  72\n",
      "   7:     7  14  21  28  35  42  49  56  63  70  77  84\n",
      "   8:     8  16  24  32  40  48  56  64  72  80  88  96\n",
      "   9:     9  18  27  36  45  54  63  72  81  90  99 108\n",
      "  10:    10  20  30  40  50  60  70  80  90 100 110 120\n",
      "  11:    11  22  33  44  55  66  77  88  99 110 121 132\n",
      "  12:    12  24  36  48  60  72  84  96 108 120 132 144\n"
     ]
    }
   ],
   "source": [
    "# 6 12*12 multiplication table\n",
    "layout = \"{0:>4}{1}{2:>6}{3:>4}{4:>4}{5:>4}{6:>4}{7:>4}{8:>4}{9:>4}{10:>4}{11:>4}{12:>4}{13:>4}\"\n",
    "print(layout.format(\"\",\" \",1,2,3,4,5,6,7,8,9,10,11,12))\n",
    "print(layout.format(\"\",\":\",\"------\",\"----\",\"----\",\"----\",\"----\",\"----\", \"----\", \"----\", \"----\", \"----\", \"----\", \"----\", \"----\",))\n",
    "\n",
    "for i in range(1,13):\n",
    "    print(layout.format(i, \":\", i, 2*i, 3*i,4*i,5*i,6*i,7*i,8*i,9*i,10*i,11*i,12*i))"
   ]
  },
  {
   "cell_type": "code",
   "execution_count": 53,
   "metadata": {},
   "outputs": [
    {
     "ename": "SyntaxError",
     "evalue": "keyword can't be an expression (<ipython-input-53-17ca1344f242>, line 65)",
     "output_type": "error",
     "traceback": [
      "\u001b[1;36m  File \u001b[1;32m\"<ipython-input-53-17ca1344f242>\"\u001b[1;36m, line \u001b[1;32m65\u001b[0m\n\u001b[1;33m    test(remove_letter(\"b\", \"\") = \"\")\u001b[0m\n\u001b[1;37m        ^\u001b[0m\n\u001b[1;31mSyntaxError\u001b[0m\u001b[1;31m:\u001b[0m keyword can't be an expression\n"
     ]
    }
   ],
   "source": [
    "#exercises 7~13\n",
    "import sys\n",
    "def reverse(word):\n",
    "    temp = \"\"\n",
    "    for i in range(len(word)):\n",
    "        temp += word[len(word) - i - 1]\n",
    "    return temp\n",
    "\n",
    "def mirror(word):\n",
    "    return word + reverse(word)\n",
    "\n",
    "def remove_letter(a, b):\n",
    "    new_letter = \"\"\n",
    "    for i in range(len(b)):\n",
    "        if b[i] != a:\n",
    "            new_letter +=  b[i]\n",
    "    return new_letter\n",
    "\n",
    "def is_palindrome(s):\n",
    "        if s == reverse(s):\n",
    "            return True\n",
    "        return False\n",
    "        \n",
    "def count(a, b):\n",
    "    count = 0\n",
    "    for i in range(len(b)):\n",
    "        if b.find(a, i) == i:\n",
    "            count += 1\n",
    "    return count\n",
    "\n",
    "def remove(a, b):\n",
    "    if b.find(a) < 0:\n",
    "        return word\n",
    "    return word[0:word.find(a)] + word[word.find(s) + len(s):]\n",
    "\n",
    "def remove_all(a, b):\n",
    "    temp = remove(a, b)\n",
    "    while remove(a, temp) != temp:\n",
    "        temp = remove(a, temp)\n",
    "    return temp\n",
    "            \n",
    "def test(did_pass):\n",
    "    linenum = sys._getframe(1).f_lineno #get the caller's line number\n",
    "    if did_pass:\n",
    "        msg = \"Test at line {0} ok.\".format(linenum)\n",
    "    else:\n",
    "        msg = (\"Test at line {0} FAILED.\".format(linenum))\n",
    "    print(msg)\n",
    "\n",
    "def test_suite():\n",
    "    test(reverse(\"happy\") == \"yppah\")\n",
    "    test(reverse(\"Python\") == \"nohtyP\")\n",
    "    test(reverse(\"\") == \"\")\n",
    "    test(reverse(\"a\") == \"a\")\n",
    "    \n",
    "    test(mirror(\"good\") == \"gooddoog\")\n",
    "    test(mirror(\"Python\") == \"PythonnohtyP\")\n",
    "    test(mirror(\"\") == \"\")\n",
    "    test(mirror(\"a\") == \"aa\")\n",
    "    \n",
    "    test(remove_letter(\"a\", \"apple\") == \"pple\")\n",
    "    test(remove_letter(\"a\", \"banana\") == \"bnn\")\n",
    "    test(remove_letter(\"z\", \"banana\") == \"banana\")\n",
    "    test(remove_letter(\"i\", \"Mississippi\") == \"Msssspp\")\n",
    "    test(remove_letter(\"b\", \"\") = \"\")\n",
    "    test(remove_letter(\"b\", \"c\") = \"c\")\n",
    "    \n",
    "    test(is_palindrome(\"abba\"))\n",
    "    test(not is_palindrome(\"abab\"))\n",
    "    test(is_palindrome(\"tenet\"))\n",
    "    test(not is_palindrome(\"banana\"))\n",
    "    test(is_palindrome(\"straw warts\"))\n",
    "    test(is_palindrome(\"a\"))\n",
    "    test(is_palindrome(\"\"))\n",
    "    \n",
    "    test(count(\"is\", \"Mississippi\") == 2)\n",
    "    test(count(\"an\", \"banana\") == 2)\n",
    "    test(count(\"ana\", \"banana\") == 2)\n",
    "    test(count(\"nana\", \"banana\") == 1)\n",
    "    test(count(\"nanan\", \"banana\") == 0)\n",
    "    test(count(\"aaa\", \"aaaaaa\") == 4)\n",
    "    \n",
    "    test(remove(\"an\", \"banana\") == \"bana\")\n",
    "    test(remove(\"cyc\", \"bicycle\") == \"bile\")\n",
    "    test(remove(\"iss\", \"Mississippi\") == \"Missippi\")\n",
    "    test(remove(\"eggs\", \"bicycle\") == \"bicycle\")\n",
    "    \n",
    "    test(remove_all(\"an\", \"banana\") == \"ba\")\n",
    "    test(remove_all(\"cyc\", \"bicycle\") == \"bile\")\n",
    "    test(remove_all(\"iss\", \"Mississippi\") == \"Mippi\")\n",
    "    test(remove_all(\"eggs\", \"bicycle\") == \"bicycle\")\n",
    "test_suite()\n"
   ]
  },
  {
   "cell_type": "code",
   "execution_count": 54,
   "metadata": {},
   "outputs": [
    {
     "name": "stdout",
     "output_type": "stream",
     "text": [
      "Test at line 72 ok.\n",
      "Test at line 73 ok.\n",
      "Test at line 74 ok.\n",
      "Test at line 75 ok.\n",
      "Test at line 76 ok.\n",
      "Test at line 77 ok.\n",
      "Test at line 78 ok.\n",
      "Test at line 79 ok.\n",
      "Test at line 80 ok.\n",
      "Test at line 81 ok.\n",
      "Test at line 82 ok.\n",
      "Test at line 83 ok.\n",
      "Test at line 84 ok.\n",
      "Test at line 85 ok.\n",
      "Test at line 86 ok.\n",
      "Test at line 87 ok.\n",
      "Test at line 88 ok.\n",
      "Test at line 89 ok.\n",
      "Test at line 90 ok.\n",
      "Test at line 91 ok.\n",
      "Test at line 92 ok.\n",
      "Test at line 93 ok.\n",
      "Test at line 94 ok.\n",
      "Test at line 95 ok.\n",
      "Test at line 96 ok.\n",
      "Test at line 97 ok.\n",
      "Test at line 98 ok.\n",
      "Test at line 99 ok.\n",
      "Test at line 100 ok.\n",
      "Test at line 101 ok.\n",
      "Test at line 102 ok.\n",
      "Test at line 103 ok.\n",
      "Test at line 104 ok.\n",
      "Test at line 105 ok.\n"
     ]
    }
   ],
   "source": [
    "import sys\n",
    "\n",
    "\n",
    "def reverse(word):\n",
    "    \"\"\" Exercise 07: Function that reverses its string argument. \"\"\"\n",
    "    temp = \"\"\n",
    "    for i in range(len(word)):\n",
    "        temp += word[len(word) - i - 1]\n",
    "    return temp\n",
    "\n",
    "\n",
    "def mirror(word):\n",
    "    \"\"\" Exercise 08: Function that mirrors its argument. \"\"\"\n",
    "    return word + reverse(word)\n",
    "\n",
    "\n",
    "def remove_letter(a, b):\n",
    "    \"\"\" Exercise 09: Remove all occurrences of a given letter from a string. \"\"\"\n",
    "    temp = \"\"\n",
    "    for i in range(len(b)):\n",
    "        if b[i] != a:\n",
    "            temp += b[i]\n",
    "    return temp\n",
    "\n",
    "\n",
    "def is_palindrome(word):\n",
    "    \"\"\" Exercise 10: Test if argument is a palindrome. \"\"\"\n",
    "    if word == reverse(word):\n",
    "        return True\n",
    "    return False\n",
    "\n",
    "\n",
    "def count(a, b):\n",
    "    \"\"\" Exercise 11: Function that counts how many times a substring occurs in a string.\n",
    "    \"\"\"\n",
    "    temp = 0\n",
    "    for i in range(len(b)):\n",
    "        if b.find(a, i) == i:\n",
    "            temp += 1\n",
    "    return temp\n",
    "\n",
    "\n",
    "def remove(s, word):\n",
    "    \"\"\" Exercise 12: Remove the first occurrence of a string from another string.\n",
    "    \"\"\"\n",
    "    if word.find(s) < 0:\n",
    "        return word\n",
    "    return word[0:word.find(s)] + word[word.find(s)+len(s):]\n",
    "\n",
    "\n",
    "def remove_all(s, word):\n",
    "    \"\"\" Exercise 13: Remove all occurrences of a string from another string. \"\"\"\n",
    "    temp = remove(s, word)\n",
    "    while remove(s, temp) != temp:\n",
    "        temp = remove(s, temp)\n",
    "    return temp\n",
    "\n",
    "\n",
    "def test(did_pass):\n",
    "    \"\"\"  Print the result of a test.  \"\"\"\n",
    "    linenum = sys._getframe(1).f_lineno   # Get the caller's line number.\n",
    "    if did_pass:\n",
    "        msg = \"Test at line {0} ok.\" .format(linenum)\n",
    "    else:\n",
    "        msg = (\"Test at line {0} FAILED\" .format(linenum))\n",
    "    print(msg)\n",
    "\n",
    "\n",
    "def test_suite():\n",
    "    \"\"\" Test suite for code in this module.\n",
    "    \"\"\"\n",
    "    test(reverse(\"happy\") == \"yppah\")\n",
    "    test(reverse(\"Python\") == \"nohtyP\")\n",
    "    test(reverse(\"\") == \"\")\n",
    "    test(reverse(\"a\") == \"a\")\n",
    "    test(mirror(\"good\") == \"gooddoog\")\n",
    "    test(mirror(\"Python\") == \"PythonnohtyP\")\n",
    "    test(mirror(\"\") == \"\")\n",
    "    test(mirror(\"a\") == \"aa\")\n",
    "    test(remove_letter(\"a\", \"apple\") == \"pple\")\n",
    "    test(remove_letter(\"a\", \"banana\") == \"bnn\")\n",
    "    test(remove_letter(\"z\", \"banana\") == \"banana\")\n",
    "    test(remove_letter(\"i\", \"Mississippi\") == \"Msssspp\")\n",
    "    test(remove_letter(\"b\", \"\") == \"\")\n",
    "    test(remove_letter(\"b\", \"c\") == \"c\")\n",
    "    test(is_palindrome(\"abba\"))\n",
    "    test(not is_palindrome(\"abab\"))\n",
    "    test(is_palindrome(\"tenet\"))\n",
    "    test(not is_palindrome(\"banana\"))\n",
    "    test(is_palindrome(\"straw warts\"))\n",
    "    test(is_palindrome(\"a\"))\n",
    "    test(count(\"is\", \"Mississippi\") == 2)\n",
    "    test(count(\"an\", \"banana\") == 2)\n",
    "    test(count(\"ana\", \"banana\") == 2)\n",
    "    test(count(\"nana\", \"banana\") == 1)\n",
    "    test(count(\"nanan\", \"banana\") == 0)\n",
    "    test(count(\"aaa\", \"aaaaaa\") == 4)\n",
    "    test(remove(\"an\", \"banana\") == \"bana\")\n",
    "    test(remove(\"cyc\", \"bicycle\") == \"bile\")\n",
    "    test(remove(\"iss\", \"Mississippi\") == \"Missippi\")\n",
    "    test(remove(\"eggs\", \"bicycle\") == \"bicycle\")\n",
    "    test(remove_all(\"an\", \"banana\") == \"ba\")\n",
    "    test(remove_all(\"cyc\", \"bicycle\") == \"bile\")\n",
    "    test(remove_all(\"iss\", \"Mississippi\") == \"Mippi\")\n",
    "    test(remove_all(\"eggs\", \"bicycle\") == \"bicycle\")\n",
    "\n",
    "test_suite()"
   ]
  },
  {
   "cell_type": "code",
   "execution_count": null,
   "metadata": {},
   "outputs": [],
   "source": []
  }
 ],
 "metadata": {
  "kernelspec": {
   "display_name": "Python 3",
   "language": "python",
   "name": "python3"
  },
  "language_info": {
   "codemirror_mode": {
    "name": "ipython",
    "version": 3
   },
   "file_extension": ".py",
   "mimetype": "text/x-python",
   "name": "python",
   "nbconvert_exporter": "python",
   "pygments_lexer": "ipython3",
   "version": "3.7.6"
  }
 },
 "nbformat": 4,
 "nbformat_minor": 4
}
